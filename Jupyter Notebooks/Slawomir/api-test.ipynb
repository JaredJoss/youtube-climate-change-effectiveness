{
 "cells": [
  {
   "cell_type": "code",
   "execution_count": 1,
   "id": "140f0a59-950b-41b6-a2a5-44c39b3f9f91",
   "metadata": {},
   "outputs": [],
   "source": [
    "import googleapiclient.discovery\n",
    "import pickle, json\n",
    "from collections import defaultdict\n",
    "class AttrDict(dict):\n",
    "    def __init__(self, *args, **kwargs):\n",
    "        super(AttrDict, self).__init__(*args, **kwargs)\n",
    "        self.__dict__ = self"
   ]
  },
  {
   "cell_type": "code",
   "execution_count": 2,
   "id": "7e21fe9a-78f2-45ca-97b1-87af677e3673",
   "metadata": {},
   "outputs": [],
   "source": [
    "ApiKey = open(\"youtube-API-key.txt\").read().strip()"
   ]
  },
  {
   "cell_type": "code",
   "execution_count": 3,
   "id": "1c6c0521-d2a9-4bc7-8d5a-aee1c56bf230",
   "metadata": {},
   "outputs": [],
   "source": [
    "# https://developers.google.com/youtube/v3/docs"
   ]
  },
  {
   "cell_type": "raw",
   "id": "b9b6e1f9-f8f3-4e4b-9302-be4f52bd2aab",
   "metadata": {},
   "source": [
    "# This works, but googleapiclient is easier...\n",
    "import requests, json\n",
    "\n",
    "MainURI = \"https://www.googleapis.com/youtube/v3/\"\n",
    "uri = MainURI + \"search?\"\n",
    "\n",
    "params = dict(part=\"snippet\",maxResults=125,q=\"climate change\",key=ApiKey)\n",
    "rr = requests.get(uri,params=params)\n",
    "res = json.loads(rr.content)\n",
    "res"
   ]
  },
  {
   "cell_type": "code",
   "execution_count": 5,
   "id": "ab3bfaa5-5f70-4d80-bbe5-e729edd82e15",
   "metadata": {},
   "outputs": [
    {
     "data": {
      "text/plain": [
       "200"
      ]
     },
     "execution_count": 5,
     "metadata": {},
     "output_type": "execute_result"
    }
   ],
   "source": [
    "api_service_name = \"youtube\"\n",
    "api_version = \"v3\"\n",
    "\n",
    "RES = []\n",
    "\n",
    "youtube = googleapiclient.discovery.build(api_service_name, api_version, developerKey=ApiKey)\n",
    "request = youtube.search().list(\n",
    "        part=\"snippet\",\n",
    "        maxResults=50,\n",
    "        q=\"climate change\"\n",
    "    )\n",
    "\n",
    "while len(RES) < 200:\n",
    "    res = request.execute()\n",
    "    RES.extend(res['items'])\n",
    "    request = youtube.search().list_next(request, res)\n",
    "pickle.dump(RES,open(\"video-list.pickle\",\"wb\"))\n",
    "len(RES)"
   ]
  },
  {
   "cell_type": "code",
   "execution_count": 6,
   "id": "5703577d-f682-4377-810a-6143b2cdc758",
   "metadata": {},
   "outputs": [
    {
     "name": "stdout",
     "output_type": "stream",
     "text": [
      "Major milestones in battling climate change seen in 2022\n",
      "CBS slammed for bizarre claim about climate change\n",
      "What is Climate Change? | Start Here\n",
      "We WILL Fix Climate Change!\n",
      "What is Climate Change?: Crash Course Climate &amp; Energy #1\n"
     ]
    },
    {
     "data": {
      "text/plain": [
       "{'kind': 'youtube#searchResult',\n",
       " 'etag': '3mOzdbyfPl86pSOLCtNULOeI_wQ',\n",
       " 'id': {'kind': 'youtube#video', 'videoId': 'N7Qot_aax9M'},\n",
       " 'snippet': {'publishedAt': '2022-12-20T16:52:53Z',\n",
       "  'channelId': 'UCBi2mrWuNuyYy4gbM6fU18Q',\n",
       "  'title': 'Major milestones in battling climate change seen in 2022',\n",
       "  'description': 'While saving the climate may be decades away, 2022 saw some major advancements in the battle against climate change.',\n",
       "  'thumbnails': {'default': {'url': 'https://i.ytimg.com/vi/N7Qot_aax9M/default.jpg',\n",
       "    'width': 120,\n",
       "    'height': 90},\n",
       "   'medium': {'url': 'https://i.ytimg.com/vi/N7Qot_aax9M/mqdefault.jpg',\n",
       "    'width': 320,\n",
       "    'height': 180},\n",
       "   'high': {'url': 'https://i.ytimg.com/vi/N7Qot_aax9M/hqdefault.jpg',\n",
       "    'width': 480,\n",
       "    'height': 360}},\n",
       "  'channelTitle': 'ABC News',\n",
       "  'liveBroadcastContent': 'none',\n",
       "  'publishTime': '2022-12-20T16:52:53Z'}}"
      ]
     },
     "execution_count": 6,
     "metadata": {},
     "output_type": "execute_result"
    }
   ],
   "source": [
    "for xx in RES[:5]:\n",
    "    print(xx['snippet']['title'])\n",
    "RES[0]"
   ]
  },
  {
   "cell_type": "code",
   "execution_count": 11,
   "id": "ae1ede27-456c-4f42-b83a-99a217811a26",
   "metadata": {
    "tags": []
   },
   "outputs": [
    {
     "data": {
      "text/plain": [
       "'N7Qot_aax9M'"
      ]
     },
     "execution_count": 11,
     "metadata": {},
     "output_type": "execute_result"
    }
   ],
   "source": [
    "vid = RES[0]['id']['videoId']\n",
    "# vid = \"N6t6QHQtdVw\"\n",
    "vid"
   ]
  },
  {
   "cell_type": "code",
   "execution_count": 13,
   "id": "75925d31-c75e-49f3-90f9-f921b4b2737c",
   "metadata": {},
   "outputs": [
    {
     "name": "stdout",
     "output_type": "stream",
     "text": [
      "{'totalResults': 19, 'resultsPerPage': 100} 19 >>> No nextPageToken\n"
     ]
    }
   ],
   "source": [
    "def getVideoComments(vid):\n",
    "    request = youtube.commentThreads().list(\n",
    "        part=\"snippet,replies\",\n",
    "        maxResults=100,\n",
    "        videoId=vid\n",
    "    )\n",
    "    try:\n",
    "        response = request.execute()\n",
    "    except googleapiclient.http.HttpError as ee:\n",
    "        if b'\"reason\": \"commentsDisabled\"' in ee.args[1]:\n",
    "            return None\n",
    "        else:\n",
    "            raise\n",
    "    print(response['pageInfo'], len(response['items']), response.get(\"nextPageToken\",\">>> No nextPageToken!\")[:20])\n",
    "    json.dump(response,open(f\"comments-data/{vid}.json\",\"w\"))\n",
    "    return response\n",
    "response = getVideoComments(vid)"
   ]
  },
  {
   "cell_type": "code",
   "execution_count": 14,
   "id": "6358111a-4bfd-4cfb-9c55-45a7cf4cf170",
   "metadata": {},
   "outputs": [
    {
     "data": {
      "text/plain": [
       "{'nrComments': 32,\n",
       " 'nrThreads': 5,\n",
       " 'nrReplies': 13,\n",
       " 'maxThreadLength': 8,\n",
       " 'disabled': False,\n",
       " 'nrAuthors': 19,\n",
       " 'nrAuthors3Posts': 3,\n",
       " 'maxPostsByAuthor': 6}"
      ]
     },
     "execution_count": 14,
     "metadata": {},
     "output_type": "execute_result"
    }
   ],
   "source": [
    "def myPrint(*args):\n",
    "    pass\n",
    "    # print(*args)\n",
    "\n",
    "def printComment(ii, item, level=\"\"):\n",
    "    global tmp\n",
    "    msg = level\n",
    "    msg += f'{ii:3}: '\n",
    "    snippet = item['snippet']\n",
    "    STATS.nrComments += 1\n",
    "    if 'topLevelComment' in snippet:\n",
    "        snippet = snippet['topLevelComment']['snippet']\n",
    "    STATS.authors[snippet['authorDisplayName']] += 1\n",
    "    msg += snippet['textDisplay'][:125] + \" (\" + snippet['authorDisplayName'] + \")\"\n",
    "    myPrint(msg)\n",
    "    replyList = item.get('replies',{}).get('comments',[])\n",
    "    if replyList:\n",
    "        STATS.nrThreads += 1\n",
    "    for nr,reply in enumerate(replyList):\n",
    "        tmp = reply\n",
    "        STATS.nrReplies += 1\n",
    "        printComment(nr, reply, level + \"     \")\n",
    "    nrReplies = int(item['snippet'].get('totalReplyCount',0))\n",
    "    STATS.maxThreadLength = max(STATS.maxThreadLength, nrReplies)\n",
    "    if nrReplies > len(replyList):\n",
    "        myPrint(level,\"     \",\"+++\")\n",
    "\n",
    "def analyseVideo(response):\n",
    "    global STATS\n",
    "    STATS = AttrDict(nrComments=0, nrThreads=0, nrReplies=0, maxThreadLength=0, authors=defaultdict(int), disabled=True)\n",
    "    if response is not None:\n",
    "        STATS.disabled = False\n",
    "        for ii,xx in enumerate(response['items']):\n",
    "            printComment(ii,xx)\n",
    "    AUTHORS = STATS.authors\n",
    "    del STATS.authors\n",
    "    STATS.nrAuthors = len(AUTHORS)\n",
    "    STATS.nrAuthors3Posts = len([xx for xx in AUTHORS if AUTHORS[xx]>2])\n",
    "    STATS.maxPostsByAuthor = max([0] + list(AUTHORS.values()))\n",
    "    return STATS\n",
    "\n",
    "analyseVideo(response)"
   ]
  },
  {
   "cell_type": "code",
   "execution_count": null,
   "id": "31e2c6cf-5591-41d1-adcd-b2f082a5be1b",
   "metadata": {
    "tags": []
   },
   "outputs": [
    {
     "name": "stdout",
     "output_type": "stream",
     "text": [
      "{'totalResults': 19, 'resultsPerPage': 100} 19 >>> No nextPageToken\n",
      "{'totalResults': 100, 'resultsPerPage': 100} 100 QURTSl9pM2tNQlpOeEhI\n",
      "{'totalResults': 100, 'resultsPerPage': 100} 100 QURTSl9pMlhFNmo3RnJ2\n",
      "{'totalResults': 100, 'resultsPerPage': 100} 100 QURTSl9pM0pKdWF3WU9v\n",
      "{'totalResults': 84, 'resultsPerPage': 100} 84 >>> No nextPageToken\n",
      "{'totalResults': 100, 'resultsPerPage': 100} 100 QURTSl9pMXJjNVZQOXNm\n",
      "{'totalResults': 100, 'resultsPerPage': 100} 100 QURTSl9pMC1rRGYxTFFp\n",
      "{'totalResults': 97, 'resultsPerPage': 100} 97 QURTSl9pMnhLeGxxcHpy\n",
      "{'totalResults': 100, 'resultsPerPage': 100} 100 QURTSl9pMnVSeTRmeGNV\n",
      "{'totalResults': 64, 'resultsPerPage': 100} 64 >>> No nextPageToken\n",
      "{'totalResults': 89, 'resultsPerPage': 100} 89 >>> No nextPageToken\n",
      "{'totalResults': 100, 'resultsPerPage': 100} 100 QURTSl9pM3BtNUg3Nkc0\n",
      "{'totalResults': 100, 'resultsPerPage': 100} 100 QURTSl9pMFlvVXJ1Wnot\n",
      "{'totalResults': 36, 'resultsPerPage': 100} 36 >>> No nextPageToken\n",
      "{'totalResults': 99, 'resultsPerPage': 100} 99 QURTSl9pMmFkRlZ5YTlN\n",
      "{'totalResults': 100, 'resultsPerPage': 100} 100 QURTSl9pMFVnMmZLM09q\n",
      "{'totalResults': 100, 'resultsPerPage': 100} 100 QURTSl9pMmoyeWs3Q0wz\n",
      "{'totalResults': 97, 'resultsPerPage': 100} 97 QURTSl9pMkpQMkJZUllj\n",
      "{'totalResults': 100, 'resultsPerPage': 100} 100 QURTSl9pMWxHakZPcm5w\n",
      "{'totalResults': 100, 'resultsPerPage': 100} 100 QURTSl9pMzdSN01qNnhw\n",
      "{'totalResults': 100, 'resultsPerPage': 100} 100 QURTSl9pMi1QTzVNdVZt\n",
      "{'totalResults': 100, 'resultsPerPage': 100} 100 QURTSl9pM0JLYUZTU1N5\n",
      "{'totalResults': 40, 'resultsPerPage': 100} 40 >>> No nextPageToken\n",
      "{'totalResults': 100, 'resultsPerPage': 100} 100 QURTSl9pM1RJTkdDM2JY\n",
      "{'totalResults': 59, 'resultsPerPage': 100} 59 >>> No nextPageToken\n",
      "{'totalResults': 100, 'resultsPerPage': 100} 100 QURTSl9pM3dJOExOT3VL\n",
      "{'totalResults': 99, 'resultsPerPage': 100} 99 QURTSl9pMkRYTlFwMmNu\n",
      "{'totalResults': 99, 'resultsPerPage': 100} 99 QURTSl9pMjVHQ3o4a09x\n",
      "{'totalResults': 96, 'resultsPerPage': 100} 96 QURTSl9pMUR0RHlJRi1C\n",
      "{'totalResults': 10, 'resultsPerPage': 100} 10 >>> No nextPageToken\n",
      "{'totalResults': 100, 'resultsPerPage': 100} 100 QURTSl9pMldLTTFWNlhy\n",
      "{'totalResults': 7, 'resultsPerPage': 100} 7 >>> No nextPageToken\n",
      "{'totalResults': 2, 'resultsPerPage': 100} 2 >>> No nextPageToken\n",
      "{'totalResults': 100, 'resultsPerPage': 100} 100 QURTSl9pMHZqZUtSSnlH\n",
      "{'totalResults': 100, 'resultsPerPage': 100} 100 QURTSl9pMXlBbmVDNjRo\n",
      "{'totalResults': 100, 'resultsPerPage': 100} 100 QURTSl9pM1ZFSi16VmFr\n",
      "{'totalResults': 100, 'resultsPerPage': 100} 100 QURTSl9pMTd0SkdFdWlv\n",
      "{'totalResults': 100, 'resultsPerPage': 100} 100 QURTSl9pMG1fNzdRck1O\n",
      "{'totalResults': 99, 'resultsPerPage': 100} 99 QURTSl9pMloxTWlsMEx6\n",
      "{'totalResults': 100, 'resultsPerPage': 100} 100 QURTSl9pMFVVM0s5Nmwt\n",
      "{'totalResults': 100, 'resultsPerPage': 100} 100 QURTSl9pMEg2bGwzeHFL\n",
      "{'totalResults': 100, 'resultsPerPage': 100} 100 QURTSl9pMlR4SXloV0RN\n",
      "{'totalResults': 100, 'resultsPerPage': 100} 100 QURTSl9pMkZIc1ZNY08x\n",
      "{'totalResults': 98, 'resultsPerPage': 100} 98 QURTSl9pMVdGajY5UkVo\n",
      "{'totalResults': 100, 'resultsPerPage': 100} 100 QURTSl9pMXdtbEpTM29E\n",
      "{'totalResults': 100, 'resultsPerPage': 100} 100 QURTSl9pMTAzdHQ4akQ4\n",
      "{'totalResults': 100, 'resultsPerPage': 100} 100 QURTSl9pM1VwWjhjcVNn\n",
      "{'totalResults': 100, 'resultsPerPage': 100} 100 QURTSl9pMlFoWWJFZll1\n",
      "{'totalResults': 84, 'resultsPerPage': 100} 84 >>> No nextPageToken\n"
     ]
    }
   ],
   "source": [
    "output = {}\n",
    "for vv in RES:\n",
    "    vid = vv['id'].get('videoId',None)\n",
    "    if vid is None or vid in output:\n",
    "        continue\n",
    "    response = getVideoComments(vid)\n",
    "    stats = analyseVideo(response)\n",
    "    output[vid] = stats"
   ]
  },
  {
   "cell_type": "code",
   "execution_count": 16,
   "id": "f4923ebf-cc81-4166-b5cb-45cfb004d492",
   "metadata": {},
   "outputs": [
    {
     "data": {
      "text/plain": [
       "{'kind': 'youtube#searchResult',\n",
       " 'etag': 'OlowAFreWVuR3tAJOhi2OVPmPXI',\n",
       " 'id': {'kind': 'youtube#channel', 'channelId': 'UCPbyIYGQv3BQebWiC9mKOBA'},\n",
       " 'snippet': {'publishedAt': '2020-06-02T17:40:02Z',\n",
       "  'channelId': 'UCPbyIYGQv3BQebWiC9mKOBA',\n",
       "  'title': 'Climate Сhange',\n",
       "  'description': \"Hello friends. The climate is changing and that's a fact. People are increasingly confronted with the incredible power of nature.\",\n",
       "  'thumbnails': {'default': {'url': 'https://yt3.ggpht.com/OBq7B8KhOgTBj4ssL9FFpBrp1Fe75ZIM3dL--cavHsJKhsp3AREkfkfiPKJ0E0WsC02XMe0TAw=s88-c-k-c0xffffffff-no-rj-mo'},\n",
       "   'medium': {'url': 'https://yt3.ggpht.com/OBq7B8KhOgTBj4ssL9FFpBrp1Fe75ZIM3dL--cavHsJKhsp3AREkfkfiPKJ0E0WsC02XMe0TAw=s240-c-k-c0xffffffff-no-rj-mo'},\n",
       "   'high': {'url': 'https://yt3.ggpht.com/OBq7B8KhOgTBj4ssL9FFpBrp1Fe75ZIM3dL--cavHsJKhsp3AREkfkfiPKJ0E0WsC02XMe0TAw=s800-c-k-c0xffffffff-no-rj-mo'}},\n",
       "  'channelTitle': 'Climate Сhange',\n",
       "  'liveBroadcastContent': 'upcoming',\n",
       "  'publishTime': '2020-06-02T17:40:02Z'}}"
      ]
     },
     "execution_count": 16,
     "metadata": {},
     "output_type": "execute_result"
    }
   ],
   "source": [
    "vv"
   ]
  },
  {
   "cell_type": "code",
   "execution_count": 215,
   "id": "f5a8e0b6-567e-46c3-80d4-c3da0c5f2fef",
   "metadata": {},
   "outputs": [
    {
     "data": {
      "text/plain": [
       "(200, 81)"
      ]
     },
     "execution_count": 215,
     "metadata": {},
     "output_type": "execute_result"
    }
   ],
   "source": [
    "len(RES), len(output)"
   ]
  },
  {
   "cell_type": "code",
   "execution_count": 222,
   "id": "504f675e-af05-44a1-bada-3e765db0c9ea",
   "metadata": {},
   "outputs": [],
   "source": [
    "for vid,info in output.items():\n",
    "    info['url'] = 'https://www.youtube.com/watch?v=' + vid"
   ]
  },
  {
   "cell_type": "code",
   "execution_count": 224,
   "id": "605ff298-cb28-4150-b835-be79c7a0efbb",
   "metadata": {},
   "outputs": [
    {
     "data": {
      "text/html": [
       "<div>\n",
       "<style scoped>\n",
       "    .dataframe tbody tr th:only-of-type {\n",
       "        vertical-align: middle;\n",
       "    }\n",
       "\n",
       "    .dataframe tbody tr th {\n",
       "        vertical-align: top;\n",
       "    }\n",
       "\n",
       "    .dataframe thead th {\n",
       "        text-align: right;\n",
       "    }\n",
       "</style>\n",
       "<table border=\"1\" class=\"dataframe\">\n",
       "  <thead>\n",
       "    <tr style=\"text-align: right;\">\n",
       "      <th></th>\n",
       "      <th>nrComments</th>\n",
       "      <th>nrThreads</th>\n",
       "      <th>nrReplies</th>\n",
       "      <th>maxThreadLength</th>\n",
       "      <th>disabled</th>\n",
       "      <th>nrAuthors</th>\n",
       "      <th>nrAuthors3Posts</th>\n",
       "      <th>maxPostsByAuthor</th>\n",
       "      <th>url</th>\n",
       "    </tr>\n",
       "  </thead>\n",
       "  <tbody>\n",
       "    <tr>\n",
       "      <th>N7Qot_aax9M</th>\n",
       "      <td>32</td>\n",
       "      <td>5</td>\n",
       "      <td>13</td>\n",
       "      <td>8</td>\n",
       "      <td>False</td>\n",
       "      <td>19</td>\n",
       "      <td>3</td>\n",
       "      <td>6</td>\n",
       "      <td>https://www.youtube.com/watch?v=N7Qot_aax9M</td>\n",
       "    </tr>\n",
       "    <tr>\n",
       "      <th>_evqapQpxUQ</th>\n",
       "      <td>105</td>\n",
       "      <td>3</td>\n",
       "      <td>5</td>\n",
       "      <td>2</td>\n",
       "      <td>False</td>\n",
       "      <td>49</td>\n",
       "      <td>4</td>\n",
       "      <td>18</td>\n",
       "      <td>https://www.youtube.com/watch?v=_evqapQpxUQ</td>\n",
       "    </tr>\n",
       "    <tr>\n",
       "      <th>dcBXmj1nMTQ</th>\n",
       "      <td>120</td>\n",
       "      <td>13</td>\n",
       "      <td>20</td>\n",
       "      <td>7</td>\n",
       "      <td>False</td>\n",
       "      <td>98</td>\n",
       "      <td>4</td>\n",
       "      <td>7</td>\n",
       "      <td>https://www.youtube.com/watch?v=dcBXmj1nMTQ</td>\n",
       "    </tr>\n",
       "    <tr>\n",
       "      <th>9PFhrpyWV-w</th>\n",
       "      <td>110</td>\n",
       "      <td>8</td>\n",
       "      <td>26</td>\n",
       "      <td>9</td>\n",
       "      <td>False</td>\n",
       "      <td>99</td>\n",
       "      <td>1</td>\n",
       "      <td>3</td>\n",
       "      <td>https://www.youtube.com/watch?v=9PFhrpyWV-w</td>\n",
       "    </tr>\n",
       "    <tr>\n",
       "      <th>qySBQjSXbfw</th>\n",
       "      <td>123</td>\n",
       "      <td>11</td>\n",
       "      <td>23</td>\n",
       "      <td>8</td>\n",
       "      <td>False</td>\n",
       "      <td>103</td>\n",
       "      <td>5</td>\n",
       "      <td>5</td>\n",
       "      <td>https://www.youtube.com/watch?v=qySBQjSXbfw</td>\n",
       "    </tr>\n",
       "    <tr>\n",
       "      <th>...</th>\n",
       "      <td>...</td>\n",
       "      <td>...</td>\n",
       "      <td>...</td>\n",
       "      <td>...</td>\n",
       "      <td>...</td>\n",
       "      <td>...</td>\n",
       "      <td>...</td>\n",
       "      <td>...</td>\n",
       "      <td>...</td>\n",
       "    </tr>\n",
       "    <tr>\n",
       "      <th>Ggp5dpGQKZA</th>\n",
       "      <td>114</td>\n",
       "      <td>7</td>\n",
       "      <td>14</td>\n",
       "      <td>3</td>\n",
       "      <td>False</td>\n",
       "      <td>101</td>\n",
       "      <td>3</td>\n",
       "      <td>3</td>\n",
       "      <td>https://www.youtube.com/watch?v=Ggp5dpGQKZA</td>\n",
       "    </tr>\n",
       "    <tr>\n",
       "      <th>69DFis2WgMQ</th>\n",
       "      <td>121</td>\n",
       "      <td>9</td>\n",
       "      <td>21</td>\n",
       "      <td>48</td>\n",
       "      <td>False</td>\n",
       "      <td>106</td>\n",
       "      <td>3</td>\n",
       "      <td>3</td>\n",
       "      <td>https://www.youtube.com/watch?v=69DFis2WgMQ</td>\n",
       "    </tr>\n",
       "    <tr>\n",
       "      <th>A0Pvk3hwt7Y</th>\n",
       "      <td>48</td>\n",
       "      <td>15</td>\n",
       "      <td>20</td>\n",
       "      <td>4</td>\n",
       "      <td>False</td>\n",
       "      <td>31</td>\n",
       "      <td>1</td>\n",
       "      <td>13</td>\n",
       "      <td>https://www.youtube.com/watch?v=A0Pvk3hwt7Y</td>\n",
       "    </tr>\n",
       "    <tr>\n",
       "      <th>Ntg1ANdeYLg</th>\n",
       "      <td>140</td>\n",
       "      <td>19</td>\n",
       "      <td>40</td>\n",
       "      <td>17</td>\n",
       "      <td>False</td>\n",
       "      <td>103</td>\n",
       "      <td>6</td>\n",
       "      <td>10</td>\n",
       "      <td>https://www.youtube.com/watch?v=Ntg1ANdeYLg</td>\n",
       "    </tr>\n",
       "    <tr>\n",
       "      <th>EiCs_8ZKVJc</th>\n",
       "      <td>73</td>\n",
       "      <td>13</td>\n",
       "      <td>22</td>\n",
       "      <td>3</td>\n",
       "      <td>False</td>\n",
       "      <td>57</td>\n",
       "      <td>2</td>\n",
       "      <td>6</td>\n",
       "      <td>https://www.youtube.com/watch?v=EiCs_8ZKVJc</td>\n",
       "    </tr>\n",
       "  </tbody>\n",
       "</table>\n",
       "<p>81 rows × 9 columns</p>\n",
       "</div>"
      ],
      "text/plain": [
       "             nrComments  nrThreads  nrReplies  maxThreadLength  disabled  \\\n",
       "N7Qot_aax9M          32          5         13                8     False   \n",
       "_evqapQpxUQ         105          3          5                2     False   \n",
       "dcBXmj1nMTQ         120         13         20                7     False   \n",
       "9PFhrpyWV-w         110          8         26                9     False   \n",
       "qySBQjSXbfw         123         11         23                8     False   \n",
       "...                 ...        ...        ...              ...       ...   \n",
       "Ggp5dpGQKZA         114          7         14                3     False   \n",
       "69DFis2WgMQ         121          9         21               48     False   \n",
       "A0Pvk3hwt7Y          48         15         20                4     False   \n",
       "Ntg1ANdeYLg         140         19         40               17     False   \n",
       "EiCs_8ZKVJc          73         13         22                3     False   \n",
       "\n",
       "             nrAuthors  nrAuthors3Posts  maxPostsByAuthor  \\\n",
       "N7Qot_aax9M         19                3                 6   \n",
       "_evqapQpxUQ         49                4                18   \n",
       "dcBXmj1nMTQ         98                4                 7   \n",
       "9PFhrpyWV-w         99                1                 3   \n",
       "qySBQjSXbfw        103                5                 5   \n",
       "...                ...              ...               ...   \n",
       "Ggp5dpGQKZA        101                3                 3   \n",
       "69DFis2WgMQ        106                3                 3   \n",
       "A0Pvk3hwt7Y         31                1                13   \n",
       "Ntg1ANdeYLg        103                6                10   \n",
       "EiCs_8ZKVJc         57                2                 6   \n",
       "\n",
       "                                                     url  \n",
       "N7Qot_aax9M  https://www.youtube.com/watch?v=N7Qot_aax9M  \n",
       "_evqapQpxUQ  https://www.youtube.com/watch?v=_evqapQpxUQ  \n",
       "dcBXmj1nMTQ  https://www.youtube.com/watch?v=dcBXmj1nMTQ  \n",
       "9PFhrpyWV-w  https://www.youtube.com/watch?v=9PFhrpyWV-w  \n",
       "qySBQjSXbfw  https://www.youtube.com/watch?v=qySBQjSXbfw  \n",
       "...                                                  ...  \n",
       "Ggp5dpGQKZA  https://www.youtube.com/watch?v=Ggp5dpGQKZA  \n",
       "69DFis2WgMQ  https://www.youtube.com/watch?v=69DFis2WgMQ  \n",
       "A0Pvk3hwt7Y  https://www.youtube.com/watch?v=A0Pvk3hwt7Y  \n",
       "Ntg1ANdeYLg  https://www.youtube.com/watch?v=Ntg1ANdeYLg  \n",
       "EiCs_8ZKVJc  https://www.youtube.com/watch?v=EiCs_8ZKVJc  \n",
       "\n",
       "[81 rows x 9 columns]"
      ]
     },
     "execution_count": 224,
     "metadata": {},
     "output_type": "execute_result"
    }
   ],
   "source": [
    "import pandas as pd\n",
    "df = pd.DataFrame.from_dict(output,orient=\"index\")\n",
    "df.to_excel(\"result.xlsx\")\n",
    "df"
   ]
  }
 ],
 "metadata": {
  "kernelspec": {
   "display_name": "Python 3 (ipykernel)",
   "language": "python",
   "name": "python3"
  },
  "language_info": {
   "codemirror_mode": {
    "name": "ipython",
    "version": 3
   },
   "file_extension": ".py",
   "mimetype": "text/x-python",
   "name": "python",
   "nbconvert_exporter": "python",
   "pygments_lexer": "ipython3",
   "version": "3.10.7"
  }
 },
 "nbformat": 4,
 "nbformat_minor": 5
}
