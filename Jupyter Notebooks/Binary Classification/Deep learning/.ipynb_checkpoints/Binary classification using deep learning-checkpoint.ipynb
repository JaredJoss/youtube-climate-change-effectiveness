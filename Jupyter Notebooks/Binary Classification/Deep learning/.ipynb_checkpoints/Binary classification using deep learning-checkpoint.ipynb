{
 "cells": [
  {
   "cell_type": "code",
   "execution_count": 1,
   "metadata": {},
   "outputs": [],
   "source": [
    "import pandas as pd\n",
    "import numpy as np\n",
    "import pickle\n",
    "\n",
    "from sklearn.model_selection import train_test_split   \n",
    "\n",
    "from keras.preprocessing.text import Tokenizer                   \n",
    "from keras.preprocessing.sequence import pad_sequences"
   ]
  },
  {
   "cell_type": "code",
   "execution_count": 2,
   "metadata": {},
   "outputs": [
    {
     "data": {
      "text/html": [
       "<div>\n",
       "<style scoped>\n",
       "    .dataframe tbody tr th:only-of-type {\n",
       "        vertical-align: middle;\n",
       "    }\n",
       "\n",
       "    .dataframe tbody tr th {\n",
       "        vertical-align: top;\n",
       "    }\n",
       "\n",
       "    .dataframe thead th {\n",
       "        text-align: right;\n",
       "    }\n",
       "</style>\n",
       "<table border=\"1\" class=\"dataframe\">\n",
       "  <thead>\n",
       "    <tr style=\"text-align: right;\">\n",
       "      <th></th>\n",
       "      <th>VideoID</th>\n",
       "      <th>Effectiveness</th>\n",
       "    </tr>\n",
       "  </thead>\n",
       "  <tbody>\n",
       "    <tr>\n",
       "      <th>0</th>\n",
       "      <td>pvuN_WvF1to</td>\n",
       "      <td>0.0</td>\n",
       "    </tr>\n",
       "    <tr>\n",
       "      <th>1</th>\n",
       "      <td>eRLJscAlk1M</td>\n",
       "      <td>1.0</td>\n",
       "    </tr>\n",
       "    <tr>\n",
       "      <th>2</th>\n",
       "      <td>VbiRNT_gWUQ</td>\n",
       "      <td>0.0</td>\n",
       "    </tr>\n",
       "    <tr>\n",
       "      <th>3</th>\n",
       "      <td>5scez5dqtAc</td>\n",
       "      <td>1.0</td>\n",
       "    </tr>\n",
       "    <tr>\n",
       "      <th>4</th>\n",
       "      <td>JDcro7dPqpA</td>\n",
       "      <td>0.0</td>\n",
       "    </tr>\n",
       "    <tr>\n",
       "      <th>...</th>\n",
       "      <td>...</td>\n",
       "      <td>...</td>\n",
       "    </tr>\n",
       "    <tr>\n",
       "      <th>131</th>\n",
       "      <td>IQpIVsxx014</td>\n",
       "      <td>0.0</td>\n",
       "    </tr>\n",
       "    <tr>\n",
       "      <th>132</th>\n",
       "      <td>JYZpxRy5Mfg</td>\n",
       "      <td>1.0</td>\n",
       "    </tr>\n",
       "    <tr>\n",
       "      <th>133</th>\n",
       "      <td>8DiWzvE52ZY</td>\n",
       "      <td>0.0</td>\n",
       "    </tr>\n",
       "    <tr>\n",
       "      <th>134</th>\n",
       "      <td>OwqIy8Ikv-c</td>\n",
       "      <td>0.0</td>\n",
       "    </tr>\n",
       "    <tr>\n",
       "      <th>135</th>\n",
       "      <td>lPgZfhnCAdI</td>\n",
       "      <td>0.0</td>\n",
       "    </tr>\n",
       "  </tbody>\n",
       "</table>\n",
       "<p>136 rows × 2 columns</p>\n",
       "</div>"
      ],
      "text/plain": [
       "         VideoID  Effectiveness\n",
       "0    pvuN_WvF1to            0.0\n",
       "1    eRLJscAlk1M            1.0\n",
       "2    VbiRNT_gWUQ            0.0\n",
       "3    5scez5dqtAc            1.0\n",
       "4    JDcro7dPqpA            0.0\n",
       "..           ...            ...\n",
       "131  IQpIVsxx014            0.0\n",
       "132  JYZpxRy5Mfg            1.0\n",
       "133  8DiWzvE52ZY            0.0\n",
       "134  OwqIy8Ikv-c            0.0\n",
       "135  lPgZfhnCAdI            0.0\n",
       "\n",
       "[136 rows x 2 columns]"
      ]
     },
     "execution_count": 2,
     "metadata": {},
     "output_type": "execute_result"
    }
   ],
   "source": [
    "df = pd.read_excel('../Resources/Climate_change_links_2.xlsx')\n",
    "data = df[[\"VideoID\", \"Effectiveness\"]]\n",
    "\n",
    "# clean data\n",
    "data = data.loc[(data[\"Effectiveness\"] == 1) | (data[\"Effectiveness\"] == 2) | (data[\"Effectiveness\"] == 3) | (data[\"Effectiveness\"] == 4) | (data[\"Effectiveness\"] == 5)]\n",
    "data = data.reset_index()\n",
    "del data[\"index\"]\n",
    "\n",
    "## Custom encoder\n",
    "def custom_encoder(df):\n",
    "    df.replace(to_replace = 1.0, value = 0, inplace=True)\n",
    "    df.replace(to_replace = 2.0, value = 0, inplace=True)\n",
    "    df.replace(to_replace = 4.0, value = 1, inplace=True)\n",
    "    df.replace(to_replace = 5.0, value = 1, inplace=True)\n",
    "\n",
    "custom_encoder(df['Effectiveness'])\n",
    "\n",
    "data = df[[\"VideoID\", \"Effectiveness\"]]\n",
    "data = data[data[\"Effectiveness\"] != 3]\n",
    "data = data.loc[(data[\"Effectiveness\"] == 0) | (data[\"Effectiveness\"] == 1)]\n",
    "data = data.reset_index()\n",
    "del data[\"index\"]\n",
    "data"
   ]
  },
  {
   "cell_type": "code",
   "execution_count": 3,
   "metadata": {},
   "outputs": [],
   "source": [
    "## get documnets (pre-processd comments)\n",
    "documents = []\n",
    "for i in range(len(data)):\n",
    "    VideoID = data[\"VideoID\"][i]\n",
    "    comment = pd.read_csv(\"../../NLP Preprocessing/03_Processed_Comments/\"+VideoID+\"/\"+VideoID+\"_all_words.csv\")\n",
    "    documents.append(list(comment[\"0\"]))"
   ]
  },
  {
   "cell_type": "code",
   "execution_count": 4,
   "metadata": {},
   "outputs": [
    {
     "data": {
      "text/html": [
       "<div>\n",
       "<style scoped>\n",
       "    .dataframe tbody tr th:only-of-type {\n",
       "        vertical-align: middle;\n",
       "    }\n",
       "\n",
       "    .dataframe tbody tr th {\n",
       "        vertical-align: top;\n",
       "    }\n",
       "\n",
       "    .dataframe thead th {\n",
       "        text-align: right;\n",
       "    }\n",
       "</style>\n",
       "<table border=\"1\" class=\"dataframe\">\n",
       "  <thead>\n",
       "    <tr style=\"text-align: right;\">\n",
       "      <th></th>\n",
       "      <th>VideoID</th>\n",
       "      <th>Effectiveness</th>\n",
       "      <th>cleaned</th>\n",
       "      <th>cleaned_string</th>\n",
       "    </tr>\n",
       "  </thead>\n",
       "  <tbody>\n",
       "    <tr>\n",
       "      <th>0</th>\n",
       "      <td>pvuN_WvF1to</td>\n",
       "      <td>0.0</td>\n",
       "      <td>[clean, version, video, child, love, northeast...</td>\n",
       "      <td>clean version video child love northeast india...</td>\n",
       "    </tr>\n",
       "    <tr>\n",
       "      <th>1</th>\n",
       "      <td>eRLJscAlk1M</td>\n",
       "      <td>1.0</td>\n",
       "      <td>[step, take, help, fight, climate, change, wel...</td>\n",
       "      <td>step take help fight climate change well equal...</td>\n",
       "    </tr>\n",
       "    <tr>\n",
       "      <th>2</th>\n",
       "      <td>VbiRNT_gWUQ</td>\n",
       "      <td>0.0</td>\n",
       "      <td>[country, disappear, video, year, old, world, ...</td>\n",
       "      <td>country disappear video year old world map did...</td>\n",
       "    </tr>\n",
       "    <tr>\n",
       "      <th>3</th>\n",
       "      <td>5scez5dqtAc</td>\n",
       "      <td>1.0</td>\n",
       "      <td>[im, watch, trump, biden, ha, already, start, ...</td>\n",
       "      <td>im watch trump biden ha already start process ...</td>\n",
       "    </tr>\n",
       "    <tr>\n",
       "      <th>4</th>\n",
       "      <td>JDcro7dPqpA</td>\n",
       "      <td>0.0</td>\n",
       "      <td>[fun, fact, cow, belch, fart, adult, version, ...</td>\n",
       "      <td>fun fact cow belch fart adult version bill nye...</td>\n",
       "    </tr>\n",
       "    <tr>\n",
       "      <th>...</th>\n",
       "      <td>...</td>\n",
       "      <td>...</td>\n",
       "      <td>...</td>\n",
       "      <td>...</td>\n",
       "    </tr>\n",
       "    <tr>\n",
       "      <th>131</th>\n",
       "      <td>IQpIVsxx014</td>\n",
       "      <td>0.0</td>\n",
       "      <td>[corporate, medium, fear, monger, earth, get, ...</td>\n",
       "      <td>corporate medium fear monger earth get flat wr...</td>\n",
       "    </tr>\n",
       "    <tr>\n",
       "      <th>132</th>\n",
       "      <td>JYZpxRy5Mfg</td>\n",
       "      <td>1.0</td>\n",
       "      <td>[usually, consumer_NEG, say_NEG, though_NEG, s...</td>\n",
       "      <td>usually consumer_NEG say_NEG though_NEG suppor...</td>\n",
       "    </tr>\n",
       "    <tr>\n",
       "      <th>133</th>\n",
       "      <td>8DiWzvE52ZY</td>\n",
       "      <td>0.0</td>\n",
       "      <td>[marios, leave, hand, doe, intro, impressive, ...</td>\n",
       "      <td>marios leave hand doe intro impressive today p...</td>\n",
       "    </tr>\n",
       "    <tr>\n",
       "      <th>134</th>\n",
       "      <td>OwqIy8Ikv-c</td>\n",
       "      <td>0.0</td>\n",
       "      <td>[lie, interseting, isnt, group_NEG, consist_NE...</td>\n",
       "      <td>lie interseting isnt group_NEG consist_NEG com...</td>\n",
       "    </tr>\n",
       "    <tr>\n",
       "      <th>135</th>\n",
       "      <td>lPgZfhnCAdI</td>\n",
       "      <td>0.0</td>\n",
       "      <td>[miss, man, wa, hero, didnt, cherish_NEG, enou...</td>\n",
       "      <td>miss man wa hero didnt cherish_NEG enough_NEG ...</td>\n",
       "    </tr>\n",
       "  </tbody>\n",
       "</table>\n",
       "<p>136 rows × 4 columns</p>\n",
       "</div>"
      ],
      "text/plain": [
       "         VideoID  Effectiveness  \\\n",
       "0    pvuN_WvF1to            0.0   \n",
       "1    eRLJscAlk1M            1.0   \n",
       "2    VbiRNT_gWUQ            0.0   \n",
       "3    5scez5dqtAc            1.0   \n",
       "4    JDcro7dPqpA            0.0   \n",
       "..           ...            ...   \n",
       "131  IQpIVsxx014            0.0   \n",
       "132  JYZpxRy5Mfg            1.0   \n",
       "133  8DiWzvE52ZY            0.0   \n",
       "134  OwqIy8Ikv-c            0.0   \n",
       "135  lPgZfhnCAdI            0.0   \n",
       "\n",
       "                                               cleaned  \\\n",
       "0    [clean, version, video, child, love, northeast...   \n",
       "1    [step, take, help, fight, climate, change, wel...   \n",
       "2    [country, disappear, video, year, old, world, ...   \n",
       "3    [im, watch, trump, biden, ha, already, start, ...   \n",
       "4    [fun, fact, cow, belch, fart, adult, version, ...   \n",
       "..                                                 ...   \n",
       "131  [corporate, medium, fear, monger, earth, get, ...   \n",
       "132  [usually, consumer_NEG, say_NEG, though_NEG, s...   \n",
       "133  [marios, leave, hand, doe, intro, impressive, ...   \n",
       "134  [lie, interseting, isnt, group_NEG, consist_NE...   \n",
       "135  [miss, man, wa, hero, didnt, cherish_NEG, enou...   \n",
       "\n",
       "                                        cleaned_string  \n",
       "0    clean version video child love northeast india...  \n",
       "1    step take help fight climate change well equal...  \n",
       "2    country disappear video year old world map did...  \n",
       "3    im watch trump biden ha already start process ...  \n",
       "4    fun fact cow belch fart adult version bill nye...  \n",
       "..                                                 ...  \n",
       "131  corporate medium fear monger earth get flat wr...  \n",
       "132  usually consumer_NEG say_NEG though_NEG suppor...  \n",
       "133  marios leave hand doe intro impressive today p...  \n",
       "134  lie interseting isnt group_NEG consist_NEG com...  \n",
       "135  miss man wa hero didnt cherish_NEG enough_NEG ...  \n",
       "\n",
       "[136 rows x 4 columns]"
      ]
     },
     "execution_count": 4,
     "metadata": {},
     "output_type": "execute_result"
    }
   ],
   "source": [
    "## create two new columns of the pre-processed data in list and string form\n",
    "data['cleaned'] = documents\n",
    "data['cleaned_string'] = [' '.join(map(str, l)) for l in data['cleaned']]\n",
    "data"
   ]
  },
  {
   "cell_type": "code",
   "execution_count": 5,
   "metadata": {},
   "outputs": [],
   "source": [
    "# split training and test set\n",
    "sentences = data['cleaned_string'].values\n",
    "y = data['Effectiveness'].values\n",
    "\n",
    "sentences_train, sentences_test, y_train, y_test = train_test_split(sentences, y, test_size=0.25, random_state=1000)"
   ]
  },
  {
   "cell_type": "code",
   "execution_count": 6,
   "metadata": {},
   "outputs": [],
   "source": [
    "import matplotlib.pyplot as plt\n",
    "plt.style.use('ggplot')\n",
    "\n",
    "# plot to see overfitting of neural networks\n",
    "def plot_history(history, save_fig=False):\n",
    "    acc = history.history['accuracy']\n",
    "    val_acc = history.history['val_accuracy']\n",
    "    loss = history.history['loss']\n",
    "    val_loss = history.history['val_loss']\n",
    "    x = range(1, len(acc) + 1)\n",
    "\n",
    "    plt.figure(figsize=(12, 5))\n",
    "    plt.subplot(1, 2, 1)\n",
    "    plt.plot(x, acc, 'b', label='Training acc')\n",
    "    plt.plot(x, val_acc, 'r', label='Validation acc')\n",
    "    plt.title('Training and validation accuracy')\n",
    "    plt.xlabel('Epoch')\n",
    "    plt.ylabel('Accuracy')\n",
    "    plt.legend()\n",
    "    plt.subplot(1, 2, 2)\n",
    "    plt.plot(x, loss, 'b', label='Training loss')\n",
    "    plt.plot(x, val_loss, 'r', label='Validation loss')\n",
    "    plt.title('Training and validation loss')\n",
    "    plt.xlabel('Epoch')\n",
    "    plt.ylabel('Loss')\n",
    "    plt.legend()\n",
    "    if save_fig:\n",
    "        plt.savefig('History plot.png', bbox_inches = \"tight\")"
   ]
  },
  {
   "cell_type": "markdown",
   "metadata": {},
   "source": [
    "#  Convolutional Neural Network (CNN)"
   ]
  },
  {
   "cell_type": "code",
   "execution_count": 7,
   "metadata": {},
   "outputs": [],
   "source": [
    "# create tokenizer\n",
    "tokenizer = Tokenizer(num_words=5000)\n",
    "tokenizer.fit_on_texts(sentences_train)\n",
    "\n",
    "X_train = tokenizer.texts_to_sequences(sentences_train)\n",
    "X_test = tokenizer.texts_to_sequences(sentences_test)\n",
    "\n",
    "vocab_size = len(tokenizer.word_index) + 1  # add 1 because of reserved 0 index\n",
    "\n",
    "# pad data so that it has the same length\n",
    "maxlen = 100\n",
    "\n",
    "X_train = pad_sequences(X_train, padding='post', maxlen=maxlen)\n",
    "X_test = pad_sequences(X_test, padding='post', maxlen=maxlen)"
   ]
  },
  {
   "cell_type": "code",
   "execution_count": 8,
   "metadata": {},
   "outputs": [],
   "source": [
    "import tensorflow as tf\n",
    "from keras.models import Sequential\n",
    "from keras import layers\n",
    "from keras.backend import clear_session\n",
    "\n",
    "from numpy.random import seed\n",
    "seed(1)\n",
    "from tensorflow.random import set_seed \n",
    "set_seed(2)\n",
    "\n",
    "clear_session()\n",
    "\n",
    "embedding_dim = 100\n",
    "\n",
    "## create CNN model\n",
    "model = Sequential()\n",
    "# add embedding layer\n",
    "model.add(layers.Embedding(vocab_size, embedding_dim, input_length=maxlen))\n",
    "# add convolutional layer\n",
    "model.add(layers.Conv1D(128, 7, activation='relu'))\n",
    "# add pooling layer\n",
    "model.add(layers.GlobalMaxPooling1D())\n",
    "# add dense layer with 10 neurons\n",
    "model.add(layers.Dense(10, activation='softmax'))\n",
    "# add output layer\n",
    "model.add(layers.Dense(1, activation='sigmoid'))\n",
    "\n",
    "model.compile(optimizer='adam', loss='binary_crossentropy', metrics=['accuracy',\n",
    "                                                                     tf.keras.metrics.TruePositives(),\n",
    "                                                                     tf.keras.metrics.TrueNegatives(),\n",
    "                                                                     tf.keras.metrics.FalsePositives(),\n",
    "                                                                     tf.keras.metrics.FalseNegatives(),   \n",
    "                                                                     tf.keras.metrics.Precision(class_id=None),\n",
    "                                                                     tf.keras.metrics.Recall()])\n",
    "\n",
    "history = model.fit(X_train, y_train,\n",
    "                    epochs=120,\n",
    "                    verbose=False,\n",
    "                    validation_data=(X_test, y_test),\n",
    "                    batch_size=28)"
   ]
  },
  {
   "cell_type": "code",
   "execution_count": 9,
   "metadata": {},
   "outputs": [
    {
     "name": "stdout",
     "output_type": "stream",
     "text": [
      "Model: \"sequential\"\n",
      "_________________________________________________________________\n",
      "Layer (type)                 Output Shape              Param #   \n",
      "=================================================================\n",
      "embedding (Embedding)        (None, 100, 100)          41079600  \n",
      "_________________________________________________________________\n",
      "conv1d (Conv1D)              (None, 94, 128)           89728     \n",
      "_________________________________________________________________\n",
      "global_max_pooling1d (Global (None, 128)               0         \n",
      "_________________________________________________________________\n",
      "dense (Dense)                (None, 10)                1290      \n",
      "_________________________________________________________________\n",
      "dense_1 (Dense)              (None, 1)                 11        \n",
      "=================================================================\n",
      "Total params: 41,170,629\n",
      "Trainable params: 41,170,629\n",
      "Non-trainable params: 0\n",
      "_________________________________________________________________\n"
     ]
    }
   ],
   "source": [
    "# model summary\n",
    "model.summary()"
   ]
  },
  {
   "cell_type": "code",
   "execution_count": 10,
   "metadata": {},
   "outputs": [
    {
     "data": {
      "image/png": "[encoded data removed]",
      "text/plain": [
       "<Figure size 864x360 with 2 Axes>"
      ]
     },
     "metadata": {},
     "output_type": "display_data"
    }
   ],
   "source": [
    "# plot accuracy and loss plots\n",
    "plot_history(history)"
   ]
  },
  {
   "cell_type": "code",
   "execution_count": 11,
   "metadata": {},
   "outputs": [
    {
     "name": "stdout",
     "output_type": "stream",
     "text": [
      "Testing Accuracy: 82.3529\n"
     ]
    }
   ],
   "source": [
    "# Evaluate\n",
    "loss, accuracy, tp, tn, fp, fn, precision, recall = model.evaluate(X_test, y_test, verbose=False)\n",
    "print(\"Testing Accuracy: {:.4f}\".format(accuracy*100))"
   ]
  },
  {
   "cell_type": "code",
   "execution_count": 12,
   "metadata": {},
   "outputs": [
    {
     "name": "stdout",
     "output_type": "stream",
     "text": [
      "Precision:   0.8888888955116272\n",
      "Recall:   0.6153846383094788\n",
      "Accuracy:   0.8235294222831726\n",
      "F1-Score:   0.7272727454989408\n"
     ]
    }
   ],
   "source": [
    "print(\"Precision:  \", precision)\n",
    "print(\"Recall:  \", recall)\n",
    "print(\"Accuracy:  \", accuracy)\n",
    "print(\"F1-Score:  \", (2*precision*recall)/(precision+recall))"
   ]
  },
  {
   "cell_type": "code",
   "execution_count": 13,
   "metadata": {},
   "outputs": [
    {
     "data": {
      "image/png": "[encoded data removed]",
      "text/plain": [
       "<Figure size 432x288 with 2 Axes>"
      ]
     },
     "metadata": {},
     "output_type": "display_data"
    }
   ],
   "source": [
    "import matplotlib.pyplot as plt\n",
    "import seaborn as sns\n",
    "\n",
    "# function to plot confusion matrix\n",
    "def plot_conf_matrix(conf_matrix):\n",
    "    group_counts = [\"{0:0.0f}\".format(value) for value in\n",
    "                conf_matrix.flatten()]\n",
    "    group_percentages = [\"{0:.2%}\".format(value) for value in\n",
    "                         conf_matrix.flatten()/np.sum(conf_matrix)]\n",
    "    labels = [f\"{v1}\\n{v2}\" for v1, v2 in\n",
    "              zip(group_counts,group_percentages)]\n",
    "    labels = np.asarray(labels).reshape(2,2)\n",
    "    \n",
    "    sns.heatmap(conf_matrix, annot=labels, fmt='', cmap='Blues')\n",
    "    \n",
    "# Creating confusion matrix\n",
    "conf_matrix = np.array( [[tp, fp], \n",
    "                         [fn, tn]] )\n",
    "\n",
    "plot_conf_matrix(conf_matrix)"
   ]
  },
  {
   "cell_type": "markdown",
   "metadata": {},
   "source": [
    "# Using Bag of Words Vectorizer"
   ]
  },
  {
   "cell_type": "code",
   "execution_count": 14,
   "metadata": {},
   "outputs": [],
   "source": [
    "from sklearn.feature_extraction.text import CountVectorizer, TfidfVectorizer\n",
    "\n",
    "vectorizer = CountVectorizer(min_df=3, ngram_range=(1, 1))\n",
    "vectorizer.fit(sentences_train)\n",
    "\n",
    "X_train = vectorizer.transform(sentences_train)\n",
    "X_test  = vectorizer.transform(sentences_test)"
   ]
  },
  {
   "cell_type": "code",
   "execution_count": 15,
   "metadata": {},
   "outputs": [
    {
     "name": "stderr",
     "output_type": "stream",
     "text": [
      "C:\\Users\\Jared\\anaconda3\\lib\\site-packages\\tensorflow\\python\\framework\\indexed_slices.py:447: UserWarning: Converting sparse IndexedSlices(IndexedSlices(indices=Tensor(\"gradient_tape/sequential/dense/embedding_lookup_sparse/Reshape_1:0\", shape=(None,), dtype=int32), values=Tensor(\"gradient_tape/sequential/dense/embedding_lookup_sparse/Reshape:0\", shape=(None, 32), dtype=float32), dense_shape=Tensor(\"gradient_tape/sequential/dense/embedding_lookup_sparse/Cast:0\", shape=(2,), dtype=int32))) to a dense Tensor of unknown shape. This may consume a large amount of memory.\n",
      "  warnings.warn(\n"
     ]
    },
    {
     "name": "stdout",
     "output_type": "stream",
     "text": [
      "Training Accuracy: 100.0000\n",
      "Testing Accuracy:  73.5294\n"
     ]
    }
   ],
   "source": [
    "from keras.models import Sequential\n",
    "from keras import layers\n",
    "from keras.backend import clear_session\n",
    "\n",
    "from numpy.random import seed\n",
    "seed(1)\n",
    "from tensorflow.random import set_seed \n",
    "set_seed(2)\n",
    "\n",
    "clear_session()\n",
    "\n",
    "# Number of features\n",
    "input_dim = X_train.shape[1]  \n",
    "\n",
    "# create model with one hidden layer\n",
    "model = Sequential()\n",
    "model.add(layers.Dense(32, input_dim=input_dim, activation='relu'))\n",
    "model.add(layers.Dense(1, activation='sigmoid'))\n",
    "\n",
    "model.compile(loss='binary_crossentropy', optimizer='adam', metrics=['accuracy'])\n",
    "\n",
    "history = model.fit(X_train, y_train,\n",
    "                     epochs=30,\n",
    "                     verbose=False,\n",
    "                     validation_data=(X_test, y_test),\n",
    "                     batch_size=32)\n",
    "\n",
    "loss, accuracy = model.evaluate(X_train, y_train, verbose=False)\n",
    "print(\"Training Accuracy: {:.4f}\".format(accuracy*100))\n",
    "loss, accuracy = model.evaluate(X_test, y_test, verbose=False)\n",
    "print(\"Testing Accuracy:  {:.4f}\".format(accuracy*100))"
   ]
  },
  {
   "cell_type": "code",
   "execution_count": 16,
   "metadata": {},
   "outputs": [
    {
     "data": {
      "image/png": "[encoded data removed]",
      "text/plain": [
       "<Figure size 864x360 with 2 Axes>"
      ]
     },
     "metadata": {},
     "output_type": "display_data"
    }
   ],
   "source": [
    "# plot accuracy and loss plots\n",
    "plot_history(history)"
   ]
  },
  {
   "cell_type": "markdown",
   "metadata": {},
   "source": [
    "# Hyperparameter Optimization"
   ]
  },
  {
   "cell_type": "code",
   "execution_count": 17,
   "metadata": {},
   "outputs": [],
   "source": [
    "def create_model(num_filters, kernel_size, vocab_size, embedding_dim, maxlen):\n",
    "    model = Sequential()\n",
    "    model.add(layers.Embedding(vocab_size, embedding_dim, input_length=maxlen))\n",
    "    model.add(layers.Conv1D(num_filters, kernel_size, activation='relu'))\n",
    "    model.add(layers.GlobalMaxPooling1D())\n",
    "    model.add(layers.Dense(10, activation='relu'))\n",
    "    model.add(layers.Dense(1, activation='sigmoid'))\n",
    "    model.compile(optimizer='adam',\n",
    "                  loss='binary_crossentropy',\n",
    "                  metrics=['accuracy'])\n",
    "    return model"
   ]
  },
  {
   "cell_type": "code",
   "execution_count": 52,
   "metadata": {},
   "outputs": [
    {
     "name": "stdout",
     "output_type": "stream",
     "text": [
      "Fitting 3 folds for each of 5 candidates, totalling 15 fits\n"
     ]
    },
    {
     "name": "stderr",
     "output_type": "stream",
     "text": [
      "[Parallel(n_jobs=1)]: Using backend SequentialBackend with 1 concurrent workers.\n",
      "[Parallel(n_jobs=1)]: Done  15 out of  15 | elapsed:  7.8min finished\n"
     ]
    },
    {
     "data": {
      "text/plain": [
       "({'vocab_size': 410796,\n",
       "  'num_filters': 128,\n",
       "  'maxlen': 100,\n",
       "  'kernel_size': 7,\n",
       "  'embedding_dim': 50},)"
      ]
     },
     "execution_count": 52,
     "metadata": {},
     "output_type": "execute_result"
    }
   ],
   "source": [
    "from keras.wrappers.scikit_learn import KerasClassifier\n",
    "from sklearn.model_selection import RandomizedSearchCV\n",
    "\n",
    "# main settings\n",
    "epochs = 20\n",
    "embedding_dim = 50\n",
    "maxlen = 100\n",
    "\n",
    "sentences = data['cleaned_string'].values\n",
    "y = data['Effectiveness'].values\n",
    "\n",
    "# train-test split\n",
    "sentences_train, sentences_test, y_train, y_test = train_test_split(sentences, y, test_size=0.25, random_state=1000)\n",
    "\n",
    "# tokenize words\n",
    "tokenizer = Tokenizer(num_words=5000)\n",
    "tokenizer.fit_on_texts(sentences_train)\n",
    "X_train = tokenizer.texts_to_sequences(sentences_train)\n",
    "X_test = tokenizer.texts_to_sequences(sentences_test)\n",
    "\n",
    "# add 1 because of reserved 0 index\n",
    "vocab_size = len(tokenizer.word_index) + 1\n",
    "\n",
    "# pad sequences with zeros\n",
    "X_train = pad_sequences(X_train, padding='post', maxlen=maxlen)\n",
    "X_test = pad_sequences(X_test, padding='post', maxlen=maxlen)\n",
    "\n",
    "# parameter grid for grid search\n",
    "param_grid = dict(num_filters=[32, 64, 128],\n",
    "                      kernel_size=[3, 5, 7],\n",
    "                      vocab_size=[vocab_size],\n",
    "                      embedding_dim=[embedding_dim],\n",
    "                      maxlen=[maxlen])\n",
    "\n",
    "model = KerasClassifier(build_fn=create_model,\n",
    "                            epochs=epochs, batch_size=10,\n",
    "                            verbose=False)\n",
    "\n",
    "grid = RandomizedSearchCV(estimator=model, param_distributions=param_grid, cv=3, verbose=1, n_iter=5)\n",
    "\n",
    "grid_result = grid.fit(X_train, y_train)\n",
    "\n",
    "# Evaluate testing set\n",
    "test_accuracy = grid.score(X_test, y_test)\n",
    "grid_result.best_score_\n",
    "grid_result.best_params_"
   ]
  }
 ],
 "metadata": {
  "kernelspec": {
   "display_name": "Python 3 (ipykernel)",
   "language": "python",
   "name": "python3"
  },
  "language_info": {
   "codemirror_mode": {
    "name": "ipython",
    "version": 3
   },
   "file_extension": ".py",
   "mimetype": "text/x-python",
   "name": "python",
   "nbconvert_exporter": "python",
   "pygments_lexer": "ipython3",
   "version": "3.8.12"
  }
 },
 "nbformat": 4,
 "nbformat_minor": 4
}
