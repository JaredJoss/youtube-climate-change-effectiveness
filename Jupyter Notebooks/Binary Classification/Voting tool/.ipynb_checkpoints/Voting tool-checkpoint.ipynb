{
 "cells": [
  {
   "cell_type": "markdown",
   "metadata": {},
   "source": [
    "# Load Libraries"
   ]
  },
  {
   "cell_type": "code",
   "execution_count": 1,
   "metadata": {},
   "outputs": [],
   "source": [
    "import pandas as pd\n",
    "import seaborn as sns\n",
    "import numpy as np\n",
    "from sklearn.feature_extraction.text import TfidfVectorizer, TfidfTransformer, CountVectorizer\n",
    "from sklearn.pipeline import Pipeline\n",
    "from sklearn.metrics import classification_report, confusion_matrix, accuracy_score\n",
    "from sklearn.model_selection import train_test_split\n",
    "\n",
    "from sklearn.ensemble import RandomForestClassifier\n",
    "from sklearn.naive_bayes import BernoulliNB\n",
    "from sklearn.linear_model import SGDClassifier, LogisticRegression\n",
    "\n",
    "from xgboost import XGBClassifier\n",
    "\n",
    "from keras.preprocessing.text import Tokenizer                   \n",
    "from keras.preprocessing.sequence import pad_sequences\n",
    "from keras.models import Sequential\n",
    "from keras import layers\n",
    "from keras.backend import clear_session\n",
    "import tensorflow as tf\n",
    "from tensorflow import keras\n",
    "\n",
    "import pickle\n",
    "import matplotlib.pyplot as plt\n",
    "%matplotlib inline"
   ]
  },
  {
   "cell_type": "markdown",
   "metadata": {},
   "source": [
    "# Load data and clean it"
   ]
  },
  {
   "cell_type": "code",
   "execution_count": 3,
   "metadata": {},
   "outputs": [
    {
     "data": {
      "text/html": [
       "<div>\n",
       "<style scoped>\n",
       "    .dataframe tbody tr th:only-of-type {\n",
       "        vertical-align: middle;\n",
       "    }\n",
       "\n",
       "    .dataframe tbody tr th {\n",
       "        vertical-align: top;\n",
       "    }\n",
       "\n",
       "    .dataframe thead th {\n",
       "        text-align: right;\n",
       "    }\n",
       "</style>\n",
       "<table border=\"1\" class=\"dataframe\">\n",
       "  <thead>\n",
       "    <tr style=\"text-align: right;\">\n",
       "      <th></th>\n",
       "      <th>VideoID</th>\n",
       "      <th>Effectiveness</th>\n",
       "    </tr>\n",
       "  </thead>\n",
       "  <tbody>\n",
       "    <tr>\n",
       "      <th>0</th>\n",
       "      <td>pvuN_WvF1to</td>\n",
       "      <td>1.0</td>\n",
       "    </tr>\n",
       "    <tr>\n",
       "      <th>1</th>\n",
       "      <td>eRLJscAlk1M</td>\n",
       "      <td>5.0</td>\n",
       "    </tr>\n",
       "    <tr>\n",
       "      <th>2</th>\n",
       "      <td>VbiRNT_gWUQ</td>\n",
       "      <td>2.0</td>\n",
       "    </tr>\n",
       "    <tr>\n",
       "      <th>3</th>\n",
       "      <td>5dVcn8NjbwY</td>\n",
       "      <td>NaN</td>\n",
       "    </tr>\n",
       "    <tr>\n",
       "      <th>4</th>\n",
       "      <td>5scez5dqtAc</td>\n",
       "      <td>4.0</td>\n",
       "    </tr>\n",
       "    <tr>\n",
       "      <th>...</th>\n",
       "      <td>...</td>\n",
       "      <td>...</td>\n",
       "    </tr>\n",
       "    <tr>\n",
       "      <th>186</th>\n",
       "      <td>TZ0j6kr4ZJ0</td>\n",
       "      <td>3.0</td>\n",
       "    </tr>\n",
       "    <tr>\n",
       "      <th>187</th>\n",
       "      <td>8DiWzvE52ZY</td>\n",
       "      <td>1.0</td>\n",
       "    </tr>\n",
       "    <tr>\n",
       "      <th>188</th>\n",
       "      <td>OwqIy8Ikv-c</td>\n",
       "      <td>2.0</td>\n",
       "    </tr>\n",
       "    <tr>\n",
       "      <th>189</th>\n",
       "      <td>lPgZfhnCAdI</td>\n",
       "      <td>1.0</td>\n",
       "    </tr>\n",
       "    <tr>\n",
       "      <th>190</th>\n",
       "      <td>dSu5sXmsur4</td>\n",
       "      <td>3.0</td>\n",
       "    </tr>\n",
       "  </tbody>\n",
       "</table>\n",
       "<p>191 rows × 2 columns</p>\n",
       "</div>"
      ],
      "text/plain": [
       "         VideoID  Effectiveness\n",
       "0    pvuN_WvF1to            1.0\n",
       "1    eRLJscAlk1M            5.0\n",
       "2    VbiRNT_gWUQ            2.0\n",
       "3    5dVcn8NjbwY            NaN\n",
       "4    5scez5dqtAc            4.0\n",
       "..           ...            ...\n",
       "186  TZ0j6kr4ZJ0            3.0\n",
       "187  8DiWzvE52ZY            1.0\n",
       "188  OwqIy8Ikv-c            2.0\n",
       "189  lPgZfhnCAdI            1.0\n",
       "190  dSu5sXmsur4            3.0\n",
       "\n",
       "[191 rows x 2 columns]"
      ]
     },
     "execution_count": 3,
     "metadata": {},
     "output_type": "execute_result"
    }
   ],
   "source": [
    "df = pd.read_excel('../../NLP Preprocessing/02_Resources/Climate_change_links.xlsx')\n",
    "data = df[[\"VideoID\", \"Effectiveness\"]]\n",
    "data"
   ]
  },
  {
   "cell_type": "code",
   "execution_count": 4,
   "metadata": {},
   "outputs": [
    {
     "data": {
      "text/html": [
       "<div>\n",
       "<style scoped>\n",
       "    .dataframe tbody tr th:only-of-type {\n",
       "        vertical-align: middle;\n",
       "    }\n",
       "\n",
       "    .dataframe tbody tr th {\n",
       "        vertical-align: top;\n",
       "    }\n",
       "\n",
       "    .dataframe thead th {\n",
       "        text-align: right;\n",
       "    }\n",
       "</style>\n",
       "<table border=\"1\" class=\"dataframe\">\n",
       "  <thead>\n",
       "    <tr style=\"text-align: right;\">\n",
       "      <th></th>\n",
       "      <th>VideoID</th>\n",
       "      <th>Effectiveness</th>\n",
       "    </tr>\n",
       "  </thead>\n",
       "  <tbody>\n",
       "    <tr>\n",
       "      <th>0</th>\n",
       "      <td>pvuN_WvF1to</td>\n",
       "      <td>1.0</td>\n",
       "    </tr>\n",
       "    <tr>\n",
       "      <th>1</th>\n",
       "      <td>eRLJscAlk1M</td>\n",
       "      <td>5.0</td>\n",
       "    </tr>\n",
       "    <tr>\n",
       "      <th>2</th>\n",
       "      <td>VbiRNT_gWUQ</td>\n",
       "      <td>2.0</td>\n",
       "    </tr>\n",
       "    <tr>\n",
       "      <th>3</th>\n",
       "      <td>5scez5dqtAc</td>\n",
       "      <td>4.0</td>\n",
       "    </tr>\n",
       "    <tr>\n",
       "      <th>4</th>\n",
       "      <td>JDcro7dPqpA</td>\n",
       "      <td>2.0</td>\n",
       "    </tr>\n",
       "    <tr>\n",
       "      <th>...</th>\n",
       "      <td>...</td>\n",
       "      <td>...</td>\n",
       "    </tr>\n",
       "    <tr>\n",
       "      <th>164</th>\n",
       "      <td>TZ0j6kr4ZJ0</td>\n",
       "      <td>3.0</td>\n",
       "    </tr>\n",
       "    <tr>\n",
       "      <th>165</th>\n",
       "      <td>8DiWzvE52ZY</td>\n",
       "      <td>1.0</td>\n",
       "    </tr>\n",
       "    <tr>\n",
       "      <th>166</th>\n",
       "      <td>OwqIy8Ikv-c</td>\n",
       "      <td>2.0</td>\n",
       "    </tr>\n",
       "    <tr>\n",
       "      <th>167</th>\n",
       "      <td>lPgZfhnCAdI</td>\n",
       "      <td>1.0</td>\n",
       "    </tr>\n",
       "    <tr>\n",
       "      <th>168</th>\n",
       "      <td>dSu5sXmsur4</td>\n",
       "      <td>3.0</td>\n",
       "    </tr>\n",
       "  </tbody>\n",
       "</table>\n",
       "<p>169 rows × 2 columns</p>\n",
       "</div>"
      ],
      "text/plain": [
       "         VideoID  Effectiveness\n",
       "0    pvuN_WvF1to            1.0\n",
       "1    eRLJscAlk1M            5.0\n",
       "2    VbiRNT_gWUQ            2.0\n",
       "3    5scez5dqtAc            4.0\n",
       "4    JDcro7dPqpA            2.0\n",
       "..           ...            ...\n",
       "164  TZ0j6kr4ZJ0            3.0\n",
       "165  8DiWzvE52ZY            1.0\n",
       "166  OwqIy8Ikv-c            2.0\n",
       "167  lPgZfhnCAdI            1.0\n",
       "168  dSu5sXmsur4            3.0\n",
       "\n",
       "[169 rows x 2 columns]"
      ]
     },
     "execution_count": 4,
     "metadata": {},
     "output_type": "execute_result"
    }
   ],
   "source": [
    "# clean data\n",
    "data = data.loc[(data[\"Effectiveness\"] == 1) | (data[\"Effectiveness\"] == 2) | (data[\"Effectiveness\"] == 3) | (data[\"Effectiveness\"] == 4) | (data[\"Effectiveness\"] == 5)]\n",
    "data = data.reset_index()\n",
    "del data[\"index\"]\n",
    "data"
   ]
  },
  {
   "cell_type": "code",
   "execution_count": 5,
   "metadata": {},
   "outputs": [
    {
     "data": {
      "text/html": [
       "<div>\n",
       "<style scoped>\n",
       "    .dataframe tbody tr th:only-of-type {\n",
       "        vertical-align: middle;\n",
       "    }\n",
       "\n",
       "    .dataframe tbody tr th {\n",
       "        vertical-align: top;\n",
       "    }\n",
       "\n",
       "    .dataframe thead th {\n",
       "        text-align: right;\n",
       "    }\n",
       "</style>\n",
       "<table border=\"1\" class=\"dataframe\">\n",
       "  <thead>\n",
       "    <tr style=\"text-align: right;\">\n",
       "      <th></th>\n",
       "      <th>VideoID</th>\n",
       "      <th>Effectiveness</th>\n",
       "    </tr>\n",
       "  </thead>\n",
       "  <tbody>\n",
       "    <tr>\n",
       "      <th>0</th>\n",
       "      <td>pvuN_WvF1to</td>\n",
       "      <td>neg</td>\n",
       "    </tr>\n",
       "    <tr>\n",
       "      <th>1</th>\n",
       "      <td>eRLJscAlk1M</td>\n",
       "      <td>pos</td>\n",
       "    </tr>\n",
       "    <tr>\n",
       "      <th>2</th>\n",
       "      <td>VbiRNT_gWUQ</td>\n",
       "      <td>neg</td>\n",
       "    </tr>\n",
       "    <tr>\n",
       "      <th>3</th>\n",
       "      <td>5scez5dqtAc</td>\n",
       "      <td>pos</td>\n",
       "    </tr>\n",
       "    <tr>\n",
       "      <th>4</th>\n",
       "      <td>JDcro7dPqpA</td>\n",
       "      <td>neg</td>\n",
       "    </tr>\n",
       "    <tr>\n",
       "      <th>...</th>\n",
       "      <td>...</td>\n",
       "      <td>...</td>\n",
       "    </tr>\n",
       "    <tr>\n",
       "      <th>132</th>\n",
       "      <td>JYZpxRy5Mfg</td>\n",
       "      <td>pos</td>\n",
       "    </tr>\n",
       "    <tr>\n",
       "      <th>133</th>\n",
       "      <td>xXMlFFY9uEI</td>\n",
       "      <td>pos</td>\n",
       "    </tr>\n",
       "    <tr>\n",
       "      <th>134</th>\n",
       "      <td>8DiWzvE52ZY</td>\n",
       "      <td>neg</td>\n",
       "    </tr>\n",
       "    <tr>\n",
       "      <th>135</th>\n",
       "      <td>OwqIy8Ikv-c</td>\n",
       "      <td>neg</td>\n",
       "    </tr>\n",
       "    <tr>\n",
       "      <th>136</th>\n",
       "      <td>lPgZfhnCAdI</td>\n",
       "      <td>neg</td>\n",
       "    </tr>\n",
       "  </tbody>\n",
       "</table>\n",
       "<p>137 rows × 2 columns</p>\n",
       "</div>"
      ],
      "text/plain": [
       "         VideoID Effectiveness\n",
       "0    pvuN_WvF1to           neg\n",
       "1    eRLJscAlk1M           pos\n",
       "2    VbiRNT_gWUQ           neg\n",
       "3    5scez5dqtAc           pos\n",
       "4    JDcro7dPqpA           neg\n",
       "..           ...           ...\n",
       "132  JYZpxRy5Mfg           pos\n",
       "133  xXMlFFY9uEI           pos\n",
       "134  8DiWzvE52ZY           neg\n",
       "135  OwqIy8Ikv-c           neg\n",
       "136  lPgZfhnCAdI           neg\n",
       "\n",
       "[137 rows x 2 columns]"
      ]
     },
     "execution_count": 5,
     "metadata": {},
     "output_type": "execute_result"
    }
   ],
   "source": [
    "## Custom encoder\n",
    "def custom_encoder(df):\n",
    "    df.replace(to_replace = 1.0, value = \"neg\", inplace=True)\n",
    "    df.replace(to_replace = 2.0, value = \"neg\", inplace=True)\n",
    "    df.replace(to_replace = 4.0, value = \"pos\", inplace=True)\n",
    "    df.replace(to_replace = 5.0, value = \"pos\", inplace=True)\n",
    "\n",
    "custom_encoder(df['Effectiveness'])\n",
    "\n",
    "data = df[[\"VideoID\", \"Effectiveness\"]]\n",
    "data = data[data[\"Effectiveness\"] != 3]\n",
    "data = data.loc[(data[\"Effectiveness\"] == 'pos') | (data[\"Effectiveness\"] == 'neg')]\n",
    "data = data.reset_index()\n",
    "del data[\"index\"]\n",
    "data"
   ]
  },
  {
   "cell_type": "code",
   "execution_count": 6,
   "metadata": {},
   "outputs": [
    {
     "name": "stderr",
     "output_type": "stream",
     "text": [
      "C:\\Users\\Jared\\anaconda3\\lib\\site-packages\\seaborn\\_decorators.py:36: FutureWarning: Pass the following variable as a keyword arg: x. From version 0.12, the only valid positional argument will be `data`, and passing other arguments without an explicit keyword will result in an error or misinterpretation.\n",
      "  warnings.warn(\n"
     ]
    },
    {
     "data": {
      "text/plain": [
       "Text(0, 0.5, 'Count')"
      ]
     },
     "execution_count": 6,
     "metadata": {},
     "output_type": "execute_result"
    },
    {
     "data": {
      "image/png": "[encoded data removed]",
      "text/plain": [
       "<Figure size 432x288 with 1 Axes>"
      ]
     },
     "metadata": {
      "needs_background": "light"
     },
     "output_type": "display_data"
    }
   ],
   "source": [
    "# visulaise \n",
    "plot = sns.countplot(data['Effectiveness'], order=['neg','pos'])\n",
    "plot.set_xlabel(\"Effectiveness\", fontsize = 12)\n",
    "plot.set_ylabel(\"Count\", fontsize = 12)"
   ]
  },
  {
   "cell_type": "code",
   "execution_count": 7,
   "metadata": {},
   "outputs": [],
   "source": [
    "## get documnets (pre-processd comments)\n",
    "documents = []\n",
    "for i in range(len(data)):\n",
    "    VideoID = data[\"VideoID\"][i]\n",
    "    comment = pd.read_csv(\"../../NLP Preprocessing/03_Processed_Comments/\"+VideoID+\"/\"+VideoID+\"_all_words.csv\")\n",
    "    documents.append(list(comment[\"0\"]))"
   ]
  },
  {
   "cell_type": "code",
   "execution_count": 8,
   "metadata": {},
   "outputs": [],
   "source": [
    "## create two new columns of the pre-processed data in list and string form\n",
    "data['cleaned'] = documents\n",
    "data['cleaned_string'] = [' '.join(map(str, l)) for l in data['cleaned']]"
   ]
  },
  {
   "cell_type": "code",
   "execution_count": 9,
   "metadata": {},
   "outputs": [],
   "source": [
    "# function to plot confusion matrix\n",
    "def plot_conf_matrix(conf_matrix):\n",
    "    group_counts = [\"{0:0.0f}\".format(value) for value in\n",
    "                conf_matrix.flatten()]\n",
    "    group_percentages = [\"{0:.2%}\".format(value) for value in\n",
    "                         conf_matrix.flatten()/np.sum(conf_matrix)]\n",
    "    labels = [f\"{v1}\\n{v2}\" for v1, v2 in\n",
    "              zip(group_counts,group_percentages)]\n",
    "    labels = np.asarray(labels).reshape(2,2)\n",
    "    \n",
    "    sns.heatmap(conf_matrix, annot=labels, fmt='', cmap='Blues')\n",
    "    \n",
    "# function to get results of algorithm\n",
    "def get_results(y_test, y_pred):\n",
    "    # print classification report\n",
    "    print(classification_report(y_test, y_pred))\n",
    "    # plot confusion matrix\n",
    "    plot_conf_matrix(confusion_matrix(y_test, y_pred))"
   ]
  },
  {
   "cell_type": "markdown",
   "metadata": {},
   "source": [
    "# Machine Learning"
   ]
  },
  {
   "cell_type": "code",
   "execution_count": 10,
   "metadata": {},
   "outputs": [],
   "source": [
    "# set vectorizer\n",
    "vectorizer = TfidfVectorizer(min_df=3, stop_words=\"english\", sublinear_tf=True, norm='l2', ngram_range=(1, 1))\n",
    "\n",
    "# split training and test set\n",
    "X = data.cleaned_string\n",
    "y = data.Effectiveness\n",
    "X_train, X_test, y_train, y_test = train_test_split(X, y, test_size=0.3, random_state=42)"
   ]
  },
  {
   "cell_type": "markdown",
   "metadata": {},
   "source": [
    "## Shallow Algorithms"
   ]
  },
  {
   "cell_type": "markdown",
   "metadata": {},
   "source": [
    "### Random Forest Algorithm"
   ]
  },
  {
   "cell_type": "code",
   "execution_count": 11,
   "metadata": {},
   "outputs": [
    {
     "name": "stderr",
     "output_type": "stream",
     "text": [
      "[Parallel(n_jobs=1)]: Using backend SequentialBackend with 1 concurrent workers.\n"
     ]
    },
    {
     "name": "stdout",
     "output_type": "stream",
     "text": [
      "              precision    recall  f1-score   support\n",
      "\n",
      "         neg       0.68      0.86      0.76        22\n",
      "         pos       0.79      0.55      0.65        20\n",
      "\n",
      "    accuracy                           0.71        42\n",
      "   macro avg       0.73      0.71      0.70        42\n",
      "weighted avg       0.73      0.71      0.71        42\n",
      "\n"
     ]
    },
    {
     "name": "stderr",
     "output_type": "stream",
     "text": [
      "[Parallel(n_jobs=1)]: Done 1000 out of 1000 | elapsed:    3.9s finished\n"
     ]
    },
    {
     "data": {
      "image/png": "[encoded data removed]",
      "text/plain": [
       "<Figure size 432x288 with 2 Axes>"
      ]
     },
     "metadata": {
      "needs_background": "light"
     },
     "output_type": "display_data"
    }
   ],
   "source": [
    "# create pipeline for algorithm\n",
    "randFor = Pipeline([('vect', CountVectorizer()),\n",
    "                    ('tfidf', TfidfTransformer()),\n",
    "                    ('clf', RandomForestClassifier(n_estimators=1000, random_state=1, criterion='entropy', oob_score=True, verbose=1)),\n",
    "                   ])\n",
    "\n",
    "# open pickle file\n",
    "randFor_71_f = open('../Shallow machine learning/pickles/randFor_71.pickle', \"rb\")\n",
    "randFor_train = pickle.load(randFor_71_f)\n",
    "randFor_71_f.close()\n",
    "\n",
    "y_pred_RandFor = randFor_train.predict(X_test)\n",
    "\n",
    "# get results of algorithm\n",
    "get_results(y_test, y_pred_RandFor)"
   ]
  },
  {
   "cell_type": "markdown",
   "metadata": {},
   "source": [
    "### Stochastic Gradient Descent Classifier "
   ]
  },
  {
   "cell_type": "code",
   "execution_count": 12,
   "metadata": {},
   "outputs": [
    {
     "name": "stdout",
     "output_type": "stream",
     "text": [
      "              precision    recall  f1-score   support\n",
      "\n",
      "         neg       0.76      0.73      0.74        22\n",
      "         pos       0.71      0.75      0.73        20\n",
      "\n",
      "    accuracy                           0.74        42\n",
      "   macro avg       0.74      0.74      0.74        42\n",
      "weighted avg       0.74      0.74      0.74        42\n",
      "\n"
     ]
    },
    {
     "data": {
      "image/png": "[encoded data removed]",
      "text/plain": [
       "<Figure size 432x288 with 2 Axes>"
      ]
     },
     "metadata": {
      "needs_background": "light"
     },
     "output_type": "display_data"
    }
   ],
   "source": [
    "# create pipeline for algorithm\n",
    "SGD = Pipeline([('vect', vectorizer),\n",
    "                ('clf', SGDClassifier(loss='hinge', penalty='l2',alpha=1e-3, max_iter=5, tol=None, random_state=12)),\n",
    "               ])\n",
    "\n",
    "# open pickle file\n",
    "SGD_74_f = open('../Shallow machine learning/pickles/SGD_74.pickle', \"rb\")\n",
    "SGD_train = pickle.load(SGD_74_f)\n",
    "SGD_74_f.close()\n",
    "\n",
    "# get prediction from algorithm\n",
    "y_pred_SGD = SGD_train.predict(X_test)\n",
    "\n",
    "# get results of algorithm\n",
    "get_results(y_test, y_pred_SGD)"
   ]
  },
  {
   "cell_type": "markdown",
   "metadata": {},
   "source": [
    "### XG Boost"
   ]
  },
  {
   "cell_type": "code",
   "execution_count": 13,
   "metadata": {},
   "outputs": [
    {
     "name": "stdout",
     "output_type": "stream",
     "text": [
      "              precision    recall  f1-score   support\n",
      "\n",
      "         neg       0.79      0.68      0.73        22\n",
      "         pos       0.70      0.80      0.74        20\n",
      "\n",
      "    accuracy                           0.74        42\n",
      "   macro avg       0.74      0.74      0.74        42\n",
      "weighted avg       0.74      0.74      0.74        42\n",
      "\n"
     ]
    },
    {
     "data": {
      "image/png": "[encoded data removed]",
      "text/plain": [
       "<Figure size 432x288 with 2 Axes>"
      ]
     },
     "metadata": {
      "needs_background": "light"
     },
     "output_type": "display_data"
    }
   ],
   "source": [
    "# create pipeline for algorithm\n",
    "XGB = Pipeline([('vect', CountVectorizer()),\n",
    "                ('tfidf', TfidfTransformer()),\n",
    "                ('clf', XGBClassifier()),\n",
    "               ])\n",
    "\n",
    "# open pickle file\n",
    "XGB_74_f = open('../Shallow machine learning/pickles/XGB_74.pickle', \"rb\")\n",
    "XGB_train = pickle.load(XGB_74_f)\n",
    "XGB_74_f.close()\n",
    "\n",
    "# get prediction from algorithm\n",
    "y_pred_XGB = XGB_train.predict(X_test)\n",
    "\n",
    "# get results of algorithm\n",
    "get_results(y_test, y_pred_XGB)"
   ]
  },
  {
   "cell_type": "markdown",
   "metadata": {},
   "source": [
    "### Logistic Regression Classifier"
   ]
  },
  {
   "cell_type": "code",
   "execution_count": 14,
   "metadata": {},
   "outputs": [
    {
     "name": "stdout",
     "output_type": "stream",
     "text": [
      "              precision    recall  f1-score   support\n",
      "\n",
      "         neg       0.78      0.82      0.80        22\n",
      "         pos       0.79      0.75      0.77        20\n",
      "\n",
      "    accuracy                           0.79        42\n",
      "   macro avg       0.79      0.78      0.78        42\n",
      "weighted avg       0.79      0.79      0.79        42\n",
      "\n"
     ]
    },
    {
     "data": {
      "image/png": "[encoded data removed]",
      "text/plain": [
       "<Figure size 432x288 with 2 Axes>"
      ]
     },
     "metadata": {
      "needs_background": "light"
     },
     "output_type": "display_data"
    }
   ],
   "source": [
    "# create pipeline for algorithm\n",
    "logreg = Pipeline([('vect', vectorizer),\n",
    "                   ('clf', LogisticRegression(n_jobs=1, C=100000.0, penalty='l1', solver='liblinear', random_state=12)),\n",
    "                  ])\n",
    "\n",
    "# open pickle file\n",
    "logreg_79_f = open('../Shallow machine learning/pickles/logreg_79.pickle', \"rb\")\n",
    "logreg_train = pickle.load(logreg_79_f)\n",
    "logreg_79_f.close()\n",
    "\n",
    "# get prediction from algorithm\n",
    "y_pred_logreg = logreg_train.predict(X_test)\n",
    "\n",
    "# get results of algorithm\n",
    "get_results(y_test, y_pred_logreg)"
   ]
  },
  {
   "cell_type": "markdown",
   "metadata": {},
   "source": [
    "## Deep Learning Algorithm"
   ]
  },
  {
   "cell_type": "markdown",
   "metadata": {},
   "source": [
    "### Convolutional Neural Network (CNN)"
   ]
  },
  {
   "cell_type": "code",
   "execution_count": 15,
   "metadata": {},
   "outputs": [],
   "source": [
    "## Create CNN model\n",
    "model = Sequential()\n",
    "embedding_dim = 100\n",
    "vocab_size = 410796\n",
    "maxlen = 100\n",
    "# input embedded layer\n",
    "model.add(layers.Embedding(vocab_size, embedding_dim, input_length=maxlen))\n",
    "# convolutional layer with relu activation\n",
    "model.add(layers.Conv1D(128, 7, activation='relu'))\n",
    "# max pooling layer\n",
    "model.add(layers.GlobalMaxPooling1D())\n",
    "# hidden layer with 10 neurons with a softmax activation\n",
    "model.add(layers.Dense(10, activation='softmax'))\n",
    "# output layer with a sigmoid activation\n",
    "model.add(layers.Dense(1, activation='sigmoid'))\n",
    "\n",
    "model.compile(optimizer='adam', loss='binary_crossentropy', metrics=['accuracy',\n",
    "                                                                     tf.keras.metrics.TruePositives(),\n",
    "                                                                     tf.keras.metrics.TrueNegatives(),\n",
    "                                                                     tf.keras.metrics.FalsePositives(),\n",
    "                                                                     tf.keras.metrics.FalseNegatives(),   \n",
    "                                                                     tf.keras.metrics.Precision(class_id=None),\n",
    "                                                                     tf.keras.metrics.Recall()])"
   ]
  },
  {
   "cell_type": "code",
   "execution_count": 16,
   "metadata": {},
   "outputs": [],
   "source": [
    "# open y_train file\n",
    "y_train_f = open('../Deep learning/pickles/y_train.pickle', \"rb\")\n",
    "y_train_CNN = pickle.load(y_train_f)\n",
    "y_train_f.close()\n",
    "\n",
    "# open y_test file\n",
    "y_test_f = open('../Deep learning/pickles/y_test.pickle', \"rb\")\n",
    "y_test_CNN = pickle.load(y_test_f)\n",
    "y_test_f.close()\n",
    "\n",
    "# open X_train file\n",
    "X_train_f = open('../Deep learning/pickles/X_train.pickle', \"rb\")\n",
    "X_train_CNN = pickle.load(X_train_f)\n",
    "X_train_f.close()\n",
    "\n",
    "# open X_test file\n",
    "X_test_f = open('../Deep learning/pickles/X_test.pickle', \"rb\")\n",
    "X_test_CNN = pickle.load(X_test_f)\n",
    "X_test_f.close()"
   ]
  },
  {
   "cell_type": "code",
   "execution_count": 17,
   "metadata": {},
   "outputs": [],
   "source": [
    "# get saved model\n",
    "model = keras.models.load_model(\"../Deep learning/CNN_82\")"
   ]
  },
  {
   "cell_type": "code",
   "execution_count": 18,
   "metadata": {},
   "outputs": [
    {
     "name": "stdout",
     "output_type": "stream",
     "text": [
      "Testing Accuracy:  82.35294222831726\n"
     ]
    },
    {
     "data": {
      "image/png": "[encoded data removed]",
      "text/plain": [
       "<Figure size 432x288 with 2 Axes>"
      ]
     },
     "metadata": {
      "needs_background": "light"
     },
     "output_type": "display_data"
    }
   ],
   "source": [
    "# Evaluate model\n",
    "loss, CNN_accuracy, tp, tn, fp, fn, precision, recall = model.evaluate(X_test_CNN, y_test_CNN, verbose=False)\n",
    "print(\"Testing Accuracy: \", CNN_accuracy*100)\n",
    "\n",
    "# Creating confusion matrix\n",
    "plot_conf_matrix(np.array([[tp, fp], \n",
    "                          [fn, tn]]))"
   ]
  },
  {
   "cell_type": "markdown",
   "metadata": {},
   "source": [
    "# Comparing the Algorithms"
   ]
  },
  {
   "cell_type": "code",
   "execution_count": 19,
   "metadata": {},
   "outputs": [],
   "source": [
    "## Evaluate algorithms\n",
    "def evaluate(y_test, y_pred_dict):\n",
    "    table = pd.DataFrame({}, index=['Accuracy', 'Precision', 'Recall','F1-score']) \n",
    "    \n",
    "    for model in y_pred_dict:\n",
    "        report = classification_report(y_test, y_pred_dict[model], digits=2, output_dict=True)\n",
    "        \n",
    "        cols = [report['accuracy'],(report['neg']['precision']+report['pos']['precision'])/2,(report['neg']['recall']+report['pos']['recall'])/2,(report['neg']['f1-score']+report['pos']['f1-score'])/2]\n",
    "        table[model] = cols\n",
    "    \n",
    "    # add CNN results\n",
    "    table.insert(table.shape[1],\"CNN\", [0.8235,0.8888,0.6153,0.7272], True)\n",
    "    \n",
    "    # convert to percentage\n",
    "    table = table*100\n",
    "    \n",
    "    # Add 'Best Score' column\n",
    "    table['Best Score'] = table.idxmax(axis=1)\n",
    "    \n",
    "    return table.round(2)"
   ]
  },
  {
   "cell_type": "code",
   "execution_count": 20,
   "metadata": {},
   "outputs": [
    {
     "data": {
      "text/html": [
       "<div>\n",
       "<style scoped>\n",
       "    .dataframe tbody tr th:only-of-type {\n",
       "        vertical-align: middle;\n",
       "    }\n",
       "\n",
       "    .dataframe tbody tr th {\n",
       "        vertical-align: top;\n",
       "    }\n",
       "\n",
       "    .dataframe thead th {\n",
       "        text-align: right;\n",
       "    }\n",
       "</style>\n",
       "<table border=\"1\" class=\"dataframe\">\n",
       "  <thead>\n",
       "    <tr style=\"text-align: right;\">\n",
       "      <th></th>\n",
       "      <th>Random Forest</th>\n",
       "      <th>SGD</th>\n",
       "      <th>XGBoost</th>\n",
       "      <th>Logistic Regression</th>\n",
       "      <th>CNN</th>\n",
       "      <th>Best Score</th>\n",
       "    </tr>\n",
       "  </thead>\n",
       "  <tbody>\n",
       "    <tr>\n",
       "      <th>Accuracy</th>\n",
       "      <td>71.43</td>\n",
       "      <td>73.81</td>\n",
       "      <td>73.81</td>\n",
       "      <td>78.57</td>\n",
       "      <td>82.35</td>\n",
       "      <td>CNN</td>\n",
       "    </tr>\n",
       "    <tr>\n",
       "      <th>Precision</th>\n",
       "      <td>73.21</td>\n",
       "      <td>73.81</td>\n",
       "      <td>74.26</td>\n",
       "      <td>78.60</td>\n",
       "      <td>88.88</td>\n",
       "      <td>CNN</td>\n",
       "    </tr>\n",
       "    <tr>\n",
       "      <th>Recall</th>\n",
       "      <td>70.68</td>\n",
       "      <td>73.86</td>\n",
       "      <td>74.09</td>\n",
       "      <td>78.41</td>\n",
       "      <td>61.53</td>\n",
       "      <td>Logistic Regression</td>\n",
       "    </tr>\n",
       "    <tr>\n",
       "      <th>F1-score</th>\n",
       "      <td>70.35</td>\n",
       "      <td>73.79</td>\n",
       "      <td>73.79</td>\n",
       "      <td>78.46</td>\n",
       "      <td>72.72</td>\n",
       "      <td>Logistic Regression</td>\n",
       "    </tr>\n",
       "  </tbody>\n",
       "</table>\n",
       "</div>"
      ],
      "text/plain": [
       "           Random Forest    SGD  XGBoost  Logistic Regression    CNN  \\\n",
       "Accuracy           71.43  73.81    73.81                78.57  82.35   \n",
       "Precision          73.21  73.81    74.26                78.60  88.88   \n",
       "Recall             70.68  73.86    74.09                78.41  61.53   \n",
       "F1-score           70.35  73.79    73.79                78.46  72.72   \n",
       "\n",
       "                    Best Score  \n",
       "Accuracy                   CNN  \n",
       "Precision                  CNN  \n",
       "Recall     Logistic Regression  \n",
       "F1-score   Logistic Regression  "
      ]
     },
     "execution_count": 20,
     "metadata": {},
     "output_type": "execute_result"
    }
   ],
   "source": [
    "# dictionary of algorithms and their respective predictions\n",
    "y_pred_dict = {\n",
    "               \"Random Forest\": y_pred_RandFor,\n",
    "               \"SGD\": y_pred_SGD, \n",
    "               \"XGBoost\": y_pred_XGB,\n",
    "               \"Logistic Regression\": y_pred_logreg,\n",
    "              }\n",
    "\n",
    "table = evaluate(y_test, y_pred_dict)\n",
    "table"
   ]
  },
  {
   "cell_type": "code",
   "execution_count": 21,
   "metadata": {},
   "outputs": [
    {
     "name": "stderr",
     "output_type": "stream",
     "text": [
      "C:\\Users\\Jared\\anaconda3\\lib\\site-packages\\pandas\\core\\frame.py:4906: SettingWithCopyWarning: \n",
      "A value is trying to be set on a copy of a slice from a DataFrame\n",
      "\n",
      "See the caveats in the documentation: https://pandas.pydata.org/pandas-docs/stable/user_guide/indexing.html#returning-a-view-versus-a-copy\n",
      "  return super().drop(\n"
     ]
    },
    {
     "data": {
      "image/png": "[encoded data removed]",
      "text/plain": [
       "<Figure size 432x288 with 1 Axes>"
      ]
     },
     "metadata": {
      "needs_background": "light"
     },
     "output_type": "display_data"
    }
   ],
   "source": [
    "## Plot\n",
    "# get only accuracy and F1-score\n",
    "accuracy_f1 = table.iloc[[0,3]]\n",
    "accuracy_f1.drop(accuracy_f1.columns[len(accuracy_f1.columns)-1], axis=1, inplace=True)\n",
    "# get all algoritms with accuracy >= 70\n",
    "accuracy_f1 = accuracy_f1.loc[:, accuracy_f1.gt(70).any()]\n",
    "\n",
    "# convert numpy array into list\n",
    "accuracy_values = [item for sublist in accuracy_f1.iloc[[0]].values.tolist() for item in sublist]\n",
    "f1_values = [item for sublist in accuracy_f1.iloc[[1]].values.tolist() for item in sublist]\n",
    "\n",
    "plotdata = pd.DataFrame({\n",
    "    \"Accuracy\" : accuracy_values,\n",
    "    \"F1-Score\" : f1_values\n",
    "    }, \n",
    "    index = list(accuracy_f1)\n",
    ")\n",
    "plotdata.plot(kind=\"bar\")   \n",
    "\n",
    "plt.title(\"Best Performing Algorithms\")\n",
    "plt.xlabel(\"Algorithms\")\n",
    "plt.ylabel(\"Accuracy and F1-Score (%)\")\n",
    "plt.xticks(rotation=45, ha=\"center\")\n",
    "plt.ylim([0,100])\n",
    "plt.legend(loc='best')\n",
    "plt.rcParams[\"figure.figsize\"] = plt.rcParamsDefault[\"figure.figsize\"]    \n",
    "#plt.savefig('Best Performing Algorithms.png', bbox_inches = \"tight\")"
   ]
  },
  {
   "cell_type": "markdown",
   "metadata": {},
   "source": [
    "# Create Pipeline to classify a video"
   ]
  },
  {
   "cell_type": "code",
   "execution_count": 22,
   "metadata": {},
   "outputs": [],
   "source": [
    "## get YouTube ID\n",
    "def getID(url):\n",
    "    from pytube import extract\n",
    "    print(\"Getting YouTube ID...\")\n",
    "    return extract.video_id(url)"
   ]
  },
  {
   "cell_type": "code",
   "execution_count": 23,
   "metadata": {},
   "outputs": [],
   "source": [
    "## download comments\n",
    "def downloadComments(videoID):\n",
    "    import os\n",
    "    print(\"Downloading Comments...\")\n",
    "    os.system(\"youtube-comment-downloader --youtubeid=\" + videoID + \" --output Comments/\" + videoID + \".json\")"
   ]
  },
  {
   "cell_type": "code",
   "execution_count": 29,
   "metadata": {},
   "outputs": [],
   "source": [
    "# Import packages\n",
    "import pandas as pd\n",
    "import string\n",
    "import re\n",
    "import nltk\n",
    "import nltk.sentiment.util\n",
    "from nltk.corpus import stopwords\n",
    "from nltk.stem import WordNetLemmatizer \n",
    "from textblob import TextBlob\n",
    "import numpy as np\n",
    "import math\n",
    "\n",
    "sw = stopwords.words('english')\n",
    "lemmatizer = WordNetLemmatizer()\n",
    "\n",
    "# function to clean comments\n",
    "def clean_text(text):\n",
    "    \n",
    "    # remove symbols and Emojis\n",
    "    text = text.lower()\n",
    "    text = re.sub('@', '', text)\n",
    "    text = re.sub('\\[.*?\\]', '', text)\n",
    "    text = re.sub('https?://\\S+|www\\.\\S+', '', text)\n",
    "    text = re.sub('<.*?>+', '', text)\n",
    "    text = re.sub('[%s]' % re.escape(string.punctuation), '', text)\n",
    "    text = re.sub('\\n', '', text)\n",
    "    text = re.sub('\\w*\\d\\w*', '', text)\n",
    "    text = re.sub(r\"[^a-zA-Z ]+\", \"\", text)\n",
    "    \n",
    "    # tokenize the data\n",
    "    text = nltk.word_tokenize(text)\n",
    "    \n",
    "    # lemmatize\n",
    "    text = [lemmatizer.lemmatize(t) for t in text]\n",
    "    text = [lemmatizer.lemmatize(t, 'v') for t in text]\n",
    "    \n",
    "    # mark Negation\n",
    "    tokens_neg_marked = nltk.sentiment.util.mark_negation(text)\n",
    "    \n",
    "    # remove stopwords\n",
    "    text = [t for t in tokens_neg_marked\n",
    "             if t.replace(\"_NEG\", \"\").isalnum() and\n",
    "             t.replace(\"_NEG\", \"\") not in sw]\n",
    "    \n",
    "    return text"
   ]
  },
  {
   "cell_type": "code",
   "execution_count": 30,
   "metadata": {},
   "outputs": [],
   "source": [
    "def getSentenceTrain():\n",
    "    # open sentences_train file\n",
    "    sentences_train_f = open('../Deep learning/pickles/sentences_train.pickle', \"rb\")\n",
    "    sentences_train = pickle.load(sentences_train_f)\n",
    "    sentences_train_f.close()\n",
    "    return sentences_train"
   ]
  },
  {
   "cell_type": "code",
   "execution_count": 31,
   "metadata": {},
   "outputs": [],
   "source": [
    "def vote(test_point, _test):\n",
    "    print(\"Voting on video effectivess...\\n\")\n",
    "    pos_weighting = []\n",
    "    result = ''\n",
    "    confidence = 0\n",
    "    algos_score = 0\n",
    "    \n",
    "    algorithms = [\n",
    "             {'name': 'Random Forest', 'accuracy': accuracy_score(y_test, y_pred_RandFor)*100, 'trained': randFor_train},\n",
    "             {'name': 'SGD', 'accuracy': accuracy_score(y_test, y_pred_SGD)*100, 'trained': SGD_train},\n",
    "             {'name': 'XGBoost', 'accuracy':  accuracy_score(y_test, y_pred_SGD)*100, 'trained': XGB_train},\n",
    "             {'name': 'Logistic Regression', 'accuracy': accuracy_score(y_test, y_pred_logreg)*100, 'trained': logreg_train},\n",
    "             {'name': 'CNN', 'accuracy': CNN_accuracy*100, 'trained': model}\n",
    "        ]\n",
    "    \n",
    "    for algo in algorithms:\n",
    "        weight = algo['accuracy']\n",
    "        algos_score += weight\n",
    "        if algo['name'] == \"CNN\":\n",
    "            pred = algo['trained'].predict(_test)\n",
    "            if pred[0][0] > 0.5:\n",
    "                pos_weighting.append(weight)\n",
    "            print(\"CNN voted for: effective\" if pred[0][0]>0.5 else \"CNN voted for: ineffective\")\n",
    "        else:\n",
    "            pred = algo['trained'].predict(test_point)\n",
    "            if pred == 'pos':\n",
    "                pos_weighting.append(weight)\n",
    "            print(algo['name'] + \" voted for: effective\" if pred=='pos' else algo['name'] + \" voted for: ineffective\")\n",
    "\n",
    "    pos_result = sum(pos_weighting)/algos_score\n",
    "    if pos_result < 0.5:\n",
    "        result = 'ineffective'\n",
    "        confidence = 1-pos_result\n",
    "    else:\n",
    "        result = 'effective'\n",
    "        confidence = pos_result\n",
    "        \n",
    "    print(\"\\nThis video is \\033[1m\" + result + \"\\033[0m with a confidence of \\033[1m\" + str(round(confidence*100,2)) + \"% \\033[0m\")"
   ]
  },
  {
   "cell_type": "markdown",
   "metadata": {},
   "source": [
    "# Final tool to classify a video"
   ]
  },
  {
   "cell_type": "code",
   "execution_count": 32,
   "metadata": {},
   "outputs": [],
   "source": [
    "def quantizeEffectiveness(url):\n",
    "    # 1. Get YouTube ID\n",
    "    videoID = getID(url)\n",
    "    \n",
    "    # 2. Download comments\n",
    "    downloadComments(videoID)\n",
    "    \n",
    "    # 3. Clean comments\n",
    "    print(\"Cleaning Comments...\")\n",
    "    df = pd.read_json('Comments/'+ videoID + '.json', lines=True)\n",
    "    df['text'] = df['text'].apply(lambda x: clean_text(x))\n",
    "\n",
    "    all_words = []        \n",
    "    for i in range(len(df)):\n",
    "        all_words = all_words + df['text'][i]\n",
    "\n",
    "    df_csv = pd.DataFrame(all_words)\n",
    "    df_csv.to_csv('Processed Comments/' + videoID + '_all_words.csv', index=False)\n",
    "    \n",
    "    # 4. Create test dataframe\n",
    "    test = pd.DataFrame([[videoID]], columns=['VideoID'])\n",
    "    \n",
    "    # 5. Get documnets (pre-processd comments)\n",
    "    test_documents = []\n",
    "    comment = pd.read_csv(\"Processed Comments/\" + videoID + \"_all_words.csv\")\n",
    "    test_documents.append(list(comment[\"0\"]))\n",
    "    test['cleaned'] = test_documents\n",
    "    test['cleaned_string'] = [' '.join(map(str, l)) for l in test['cleaned']]\n",
    "    \n",
    "    # 6. Get ML test point\n",
    "    test_point = test.cleaned_string\n",
    "    test_sentence = test['cleaned_string'].values\n",
    "    \n",
    "    # 7. Get trained sentences\n",
    "    sentences_train = getSentenceTrain()\n",
    "    \n",
    "    # 8. Tokenize the data\n",
    "    print(\"Tokenizing the data...\")\n",
    "    tokenizer = Tokenizer(num_words=5000)\n",
    "    tokenizer.fit_on_texts(sentences_train)\n",
    "    \n",
    "    # 9. Get DL test point\n",
    "    _test = pad_sequences(tokenizer.texts_to_sequences(test_sentence), padding='post', maxlen=100)\n",
    "    \n",
    "    # 10. Vote on video effectiveness\n",
    "    vote(test_point,_test)"
   ]
  },
  {
   "cell_type": "code",
   "execution_count": 33,
   "metadata": {},
   "outputs": [
    {
     "name": "stdout",
     "output_type": "stream",
     "text": [
      "Getting YouTube ID...\n",
      "Downloading Comments...\n",
      "Cleaning Comments...\n",
      "Tokenizing the data...\n",
      "Voting on video effectivess...\n",
      "\n"
     ]
    },
    {
     "name": "stderr",
     "output_type": "stream",
     "text": [
      "[Parallel(n_jobs=1)]: Using backend SequentialBackend with 1 concurrent workers.\n",
      "[Parallel(n_jobs=1)]: Done 1000 out of 1000 | elapsed:    1.7s finished\n"
     ]
    },
    {
     "name": "stdout",
     "output_type": "stream",
     "text": [
      "Random Forest voted for: effective\n",
      "SGD voted for: effective\n",
      "XGBoost voted for: effective\n",
      "Logistic Regression voted for: effective\n",
      "CNN voted for: ineffective\n",
      "\n",
      "This video is \u001b[1meffective\u001b[0m with a confidence of \u001b[1m78.33% \u001b[0m\n"
     ]
    }
   ],
   "source": [
    "quantizeEffectiveness(\"https://www.youtube.com/watch?v=DhhVr5iLF-c\")"
   ]
  },
  {
   "cell_type": "code",
   "execution_count": null,
   "metadata": {},
   "outputs": [],
   "source": []
  }
 ],
 "metadata": {
  "kernelspec": {
   "display_name": "Python 3 (ipykernel)",
   "language": "python",
   "name": "python3"
  },
  "language_info": {
   "codemirror_mode": {
    "name": "ipython",
    "version": 3
   },
   "file_extension": ".py",
   "mimetype": "text/x-python",
   "name": "python",
   "nbconvert_exporter": "python",
   "pygments_lexer": "ipython3",
   "version": "3.8.12"
  }
 },
 "nbformat": 4,
 "nbformat_minor": 4
}
